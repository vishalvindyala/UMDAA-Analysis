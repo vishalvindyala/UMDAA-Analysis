{
 "cells": [
  {
   "cell_type": "markdown",
   "id": "c8c1a412",
   "metadata": {},
   "source": [
    "## Import packages"
   ]
  },
  {
   "cell_type": "code",
   "execution_count": 1,
   "id": "ca9e2bc6",
   "metadata": {
    "id": "ca9e2bc6"
   },
   "outputs": [],
   "source": [
    "import pandas as pd\n",
    "import numpy as np\n",
    "import matplotlib.pyplot as plt\n",
    "import matplotlib.ticker as mtick\n",
    "from math import *\n",
    "from sklearn.linear_model import *\n",
    "from sklearn.metrics import mean_squared_error\n",
    "import seaborn as sns"
   ]
  },
  {
   "cell_type": "markdown",
   "id": "4846cb4d",
   "metadata": {},
   "source": [
    "## Import and combine the data for each years"
   ]
  },
  {
   "cell_type": "code",
   "execution_count": 2,
   "id": "ace75349",
   "metadata": {
    "id": "ace75349",
    "outputId": "9048c3e5-7342-4995-f897-6ffeafe4f5ba"
   },
   "outputs": [
    {
     "name": "stderr",
     "output_type": "stream",
     "text": [
      "/Users/chenshuping/opt/anaconda3/lib/python3.8/site-packages/openpyxl/worksheet/_reader.py:312: UserWarning: Unknown extension is not supported and will be removed\n",
      "  warn(msg)\n"
     ]
    }
   ],
   "source": [
    "# Import the excel file\n",
    "data1 = pd.read_excel(\"UMD Alumni Association Dataset.xlsx\", sheet_name=\"2013-14\")\n",
    "data1[\"year\"] = \"2013\"\n",
    "data2 = pd.read_excel(\"UMD Alumni Association Dataset.xlsx\", sheet_name=\"2014-15\")\n",
    "data2[\"year\"] = \"2014\"\n",
    "data3 = pd.read_excel(\"UMD Alumni Association Dataset.xlsx\", sheet_name=\"2015-16\")\n",
    "data3[\"year\"] = \"2015\"\n",
    "data4 = pd.read_excel(\"UMD Alumni Association Dataset.xlsx\", sheet_name=\"2016-17\")\n",
    "data4[\"year\"] = \"2016\"\n",
    "data5 = pd.read_excel(\"UMD Alumni Association Dataset.xlsx\", sheet_name=\"2017-18\")\n",
    "data5[\"year\"] = \"2017\"\n",
    "data6 = pd.read_excel(\"UMD Alumni Association Dataset.xlsx\", sheet_name=\"2018-19\")\n",
    "data6[\"year\"] = \"2018\"\n",
    "data7 = pd.read_excel(\"UMD Alumni Association Dataset.xlsx\", sheet_name=\"2019-20\")\n",
    "data7[\"year\"] = \"2019\""
   ]
  },
  {
   "cell_type": "code",
   "execution_count": 3,
   "id": "722ec90f",
   "metadata": {
    "id": "722ec90f"
   },
   "outputs": [],
   "source": [
    "# Combine the data from each year and create a variable called \"year\"\n",
    "combined_data = [data1, data2, data3, data4, data5, data6, data7]\n",
    "data = pd.concat(combined_data)"
   ]
  },
  {
   "cell_type": "markdown",
   "id": "d48cb374",
   "metadata": {
    "id": "d48cb374"
   },
   "source": [
    "## Data Description"
   ]
  },
  {
   "cell_type": "code",
   "execution_count": 4,
   "id": "5d5292e0",
   "metadata": {
    "id": "5d5292e0",
    "outputId": "ed8142dc-7e0e-4a3d-94fa-bd6fdb8eb6e9"
   },
   "outputs": [
    {
     "data": {
      "text/plain": [
       "Event Name                                 object\n",
       "Activity Code                              object\n",
       "Activity Description                       object\n",
       "Location Code                              object\n",
       "Location Description                       object\n",
       "Group Code                                 object\n",
       "Group Description                          object\n",
       "Event Date                         datetime64[ns]\n",
       "Participated                                int64\n",
       "Average Age                                 int64\n",
       "First Time Attendees                        int64\n",
       "Percentage First Time Attendees           float64\n",
       "Major Prospects                             int64\n",
       "Percentage Major Prospect                 float64\n",
       "year                                       object\n",
       "dtype: object"
      ]
     },
     "execution_count": 4,
     "metadata": {},
     "output_type": "execute_result"
    }
   ],
   "source": [
    "# Summary of the data type of each variable\n",
    "data.dtypes"
   ]
  },
  {
   "cell_type": "markdown",
   "id": "74d6b4bd",
   "metadata": {},
   "source": [
    "## Exploratory Data Analysis"
   ]
  },
  {
   "cell_type": "code",
   "execution_count": 5,
   "id": "820f5400",
   "metadata": {
    "id": "820f5400",
    "outputId": "bbc5292f-cf55-4b0b-9d7d-d36f6ebd1b7f"
   },
   "outputs": [
    {
     "data": {
      "text/plain": [
       "Event Name                         False\n",
       "Activity Code                      False\n",
       "Activity Description               False\n",
       "Location Code                      False\n",
       "Location Description               False\n",
       "Group Code                         False\n",
       "Group Description                  False\n",
       "Event Date                         False\n",
       "Participated                       False\n",
       "Average Age                        False\n",
       "First Time Attendees               False\n",
       "Percentage First Time Attendees    False\n",
       "Major Prospects                    False\n",
       "Percentage Major Prospect          False\n",
       "year                               False\n",
       "dtype: bool"
      ]
     },
     "execution_count": 5,
     "metadata": {},
     "output_type": "execute_result"
    }
   ],
   "source": [
    "# Check whether there are any missing values in the data\n",
    "data.isna().any()"
   ]
  },
  {
   "cell_type": "code",
   "execution_count": 6,
   "id": "5057b065",
   "metadata": {
    "id": "5057b065",
    "outputId": "6ebe58d1-c545-47f8-977e-c233b49aad18"
   },
   "outputs": [
    {
     "data": {
      "text/html": [
       "<div>\n",
       "<style scoped>\n",
       "    .dataframe tbody tr th:only-of-type {\n",
       "        vertical-align: middle;\n",
       "    }\n",
       "\n",
       "    .dataframe tbody tr th {\n",
       "        vertical-align: top;\n",
       "    }\n",
       "\n",
       "    .dataframe thead th {\n",
       "        text-align: right;\n",
       "    }\n",
       "</style>\n",
       "<table border=\"1\" class=\"dataframe\">\n",
       "  <thead>\n",
       "    <tr style=\"text-align: right;\">\n",
       "      <th></th>\n",
       "      <th>Event Name</th>\n",
       "      <th>Activity Code</th>\n",
       "      <th>Activity Description</th>\n",
       "      <th>Location Code</th>\n",
       "      <th>Location Description</th>\n",
       "      <th>Group Code</th>\n",
       "      <th>Group Description</th>\n",
       "      <th>year</th>\n",
       "    </tr>\n",
       "  </thead>\n",
       "  <tbody>\n",
       "    <tr>\n",
       "      <th>count</th>\n",
       "      <td>622</td>\n",
       "      <td>622</td>\n",
       "      <td>622</td>\n",
       "      <td>622</td>\n",
       "      <td>622</td>\n",
       "      <td>622</td>\n",
       "      <td>622</td>\n",
       "      <td>622</td>\n",
       "    </tr>\n",
       "    <tr>\n",
       "      <th>unique</th>\n",
       "      <td>428</td>\n",
       "      <td>341</td>\n",
       "      <td>346</td>\n",
       "      <td>45</td>\n",
       "      <td>111</td>\n",
       "      <td>49</td>\n",
       "      <td>88</td>\n",
       "      <td>7</td>\n",
       "    </tr>\n",
       "    <tr>\n",
       "      <th>top</th>\n",
       "      <td>Baltimore Terps Game Watch</td>\n",
       "      <td>PEABG</td>\n",
       "      <td>CP AA-Baltimore Terps Game Watch</td>\n",
       "      <td>PDON</td>\n",
       "      <td>CP DMV- On Campus</td>\n",
       "      <td>PS9</td>\n",
       "      <td>CP Social-General</td>\n",
       "      <td>2018</td>\n",
       "    </tr>\n",
       "    <tr>\n",
       "      <th>freq</th>\n",
       "      <td>14</td>\n",
       "      <td>14</td>\n",
       "      <td>12</td>\n",
       "      <td>116</td>\n",
       "      <td>52</td>\n",
       "      <td>176</td>\n",
       "      <td>72</td>\n",
       "      <td>219</td>\n",
       "    </tr>\n",
       "  </tbody>\n",
       "</table>\n",
       "</div>"
      ],
      "text/plain": [
       "                        Event Name Activity Code  \\\n",
       "count                          622           622   \n",
       "unique                         428           341   \n",
       "top     Baltimore Terps Game Watch         PEABG   \n",
       "freq                            14            14   \n",
       "\n",
       "                    Activity Description Location Code Location Description  \\\n",
       "count                                622           622                  622   \n",
       "unique                               346            45                  111   \n",
       "top     CP AA-Baltimore Terps Game Watch          PDON    CP DMV- On Campus   \n",
       "freq                                  12           116                   52   \n",
       "\n",
       "       Group Code  Group Description  year  \n",
       "count         622                622   622  \n",
       "unique         49                 88     7  \n",
       "top           PS9  CP Social-General  2018  \n",
       "freq          176                 72   219  "
      ]
     },
     "execution_count": 6,
     "metadata": {},
     "output_type": "execute_result"
    }
   ],
   "source": [
    "# Summary of categorical variables\n",
    "data.describe(include=\"object\")\n",
    "\n",
    "# unique: Number of distinct object in the column\n",
    "# top: Most frequently occurring object in the column\n",
    "# freq: Number of times the top appearing object in the column"
   ]
  },
  {
   "cell_type": "code",
   "execution_count": 7,
   "id": "b5540903",
   "metadata": {
    "id": "b5540903",
    "outputId": "47bc780b-504e-434c-d789-535b96365708"
   },
   "outputs": [
    {
     "data": {
      "text/html": [
       "<div>\n",
       "<style scoped>\n",
       "    .dataframe tbody tr th:only-of-type {\n",
       "        vertical-align: middle;\n",
       "    }\n",
       "\n",
       "    .dataframe tbody tr th {\n",
       "        vertical-align: top;\n",
       "    }\n",
       "\n",
       "    .dataframe thead th {\n",
       "        text-align: right;\n",
       "    }\n",
       "</style>\n",
       "<table border=\"1\" class=\"dataframe\">\n",
       "  <thead>\n",
       "    <tr style=\"text-align: right;\">\n",
       "      <th></th>\n",
       "      <th>Participated</th>\n",
       "      <th>Average Age</th>\n",
       "      <th>First Time Attendees</th>\n",
       "      <th>Percentage First Time Attendees</th>\n",
       "      <th>Major Prospects</th>\n",
       "      <th>Percentage Major Prospect</th>\n",
       "    </tr>\n",
       "  </thead>\n",
       "  <tbody>\n",
       "    <tr>\n",
       "      <th>count</th>\n",
       "      <td>622.000000</td>\n",
       "      <td>622.000000</td>\n",
       "      <td>622.000000</td>\n",
       "      <td>622.000000</td>\n",
       "      <td>622.000000</td>\n",
       "      <td>622.000000</td>\n",
       "    </tr>\n",
       "    <tr>\n",
       "      <th>mean</th>\n",
       "      <td>44.803859</td>\n",
       "      <td>40.117363</td>\n",
       "      <td>13.456592</td>\n",
       "      <td>0.276282</td>\n",
       "      <td>5.966238</td>\n",
       "      <td>0.102214</td>\n",
       "    </tr>\n",
       "    <tr>\n",
       "      <th>std</th>\n",
       "      <td>93.165049</td>\n",
       "      <td>9.741459</td>\n",
       "      <td>41.103936</td>\n",
       "      <td>0.242273</td>\n",
       "      <td>14.123466</td>\n",
       "      <td>0.131444</td>\n",
       "    </tr>\n",
       "    <tr>\n",
       "      <th>min</th>\n",
       "      <td>1.000000</td>\n",
       "      <td>19.000000</td>\n",
       "      <td>0.000000</td>\n",
       "      <td>0.000000</td>\n",
       "      <td>0.000000</td>\n",
       "      <td>0.000000</td>\n",
       "    </tr>\n",
       "    <tr>\n",
       "      <th>25%</th>\n",
       "      <td>10.000000</td>\n",
       "      <td>33.000000</td>\n",
       "      <td>1.000000</td>\n",
       "      <td>0.068523</td>\n",
       "      <td>0.000000</td>\n",
       "      <td>0.000000</td>\n",
       "    </tr>\n",
       "    <tr>\n",
       "      <th>50%</th>\n",
       "      <td>20.000000</td>\n",
       "      <td>40.000000</td>\n",
       "      <td>4.000000</td>\n",
       "      <td>0.237327</td>\n",
       "      <td>1.000000</td>\n",
       "      <td>0.058824</td>\n",
       "    </tr>\n",
       "    <tr>\n",
       "      <th>75%</th>\n",
       "      <td>44.750000</td>\n",
       "      <td>46.000000</td>\n",
       "      <td>11.000000</td>\n",
       "      <td>0.444444</td>\n",
       "      <td>5.000000</td>\n",
       "      <td>0.166667</td>\n",
       "    </tr>\n",
       "    <tr>\n",
       "      <th>max</th>\n",
       "      <td>1657.000000</td>\n",
       "      <td>75.000000</td>\n",
       "      <td>702.000000</td>\n",
       "      <td>1.000000</td>\n",
       "      <td>131.000000</td>\n",
       "      <td>0.818182</td>\n",
       "    </tr>\n",
       "  </tbody>\n",
       "</table>\n",
       "</div>"
      ],
      "text/plain": [
       "       Participated  Average Age  First Time Attendees  \\\n",
       "count    622.000000   622.000000            622.000000   \n",
       "mean      44.803859    40.117363             13.456592   \n",
       "std       93.165049     9.741459             41.103936   \n",
       "min        1.000000    19.000000              0.000000   \n",
       "25%       10.000000    33.000000              1.000000   \n",
       "50%       20.000000    40.000000              4.000000   \n",
       "75%       44.750000    46.000000             11.000000   \n",
       "max     1657.000000    75.000000            702.000000   \n",
       "\n",
       "       Percentage First Time Attendees  Major Prospects  \\\n",
       "count                       622.000000       622.000000   \n",
       "mean                          0.276282         5.966238   \n",
       "std                           0.242273        14.123466   \n",
       "min                           0.000000         0.000000   \n",
       "25%                           0.068523         0.000000   \n",
       "50%                           0.237327         1.000000   \n",
       "75%                           0.444444         5.000000   \n",
       "max                           1.000000       131.000000   \n",
       "\n",
       "       Percentage Major Prospect  \n",
       "count                 622.000000  \n",
       "mean                    0.102214  \n",
       "std                     0.131444  \n",
       "min                     0.000000  \n",
       "25%                     0.000000  \n",
       "50%                     0.058824  \n",
       "75%                     0.166667  \n",
       "max                     0.818182  "
      ]
     },
     "execution_count": 7,
     "metadata": {},
     "output_type": "execute_result"
    }
   ],
   "source": [
    "# Summary of numerical variables\n",
    "data.describe(include = [np.number])"
   ]
  },
  {
   "cell_type": "code",
   "execution_count": 8,
   "id": "2a9aa8b3",
   "metadata": {
    "id": "2a9aa8b3",
    "outputId": "defa7fda-15a6-4f6c-ccc9-5e0530fbc273"
   },
   "outputs": [
    {
     "name": "stderr",
     "output_type": "stream",
     "text": [
      "<ipython-input-8-3dd710a244c3>:14: UserWarning: FixedFormatter should only be used together with FixedLocator\n",
      "  plt.gca().set_yticklabels([\"{:,.0%}\".format(x) for x in original_yaxis])\n"
     ]
    },
    {
     "data": {
      "text/plain": [
       "Text(0.5, 1.0, 'Changes in the percentage of first-time attendees to attend our events')"
      ]
     },
     "execution_count": 8,
     "metadata": {},
     "output_type": "execute_result"
    },
    {
     "data": {
      "image/png": "[encoded data removed]",
      "text/plain": [
       "<Figure size 432x288 with 1 Axes>"
      ]
     },
     "metadata": {
      "needs_background": "light"
     },
     "output_type": "display_data"
    }
   ],
   "source": [
    "# Changes in the percentage of First Time Attendees to attend our events as year passes\n",
    "# Find the mean of percentage First Time Attendees for each year\n",
    "avgft = []\n",
    "for i in range(len(combined_data)):\n",
    "    avgft.append(combined_data[i][\"Percentage First Time Attendees\"].mean())\n",
    "# x-axis value \n",
    "names = [\"2013-14\", \"2014-15\", \"2015-16\", \"2016-17\", \"2017-18\", \"2018-19\",  \"2019-20\"]\n",
    "# y-axis value\n",
    "values = avgft\n",
    "# draw the line\n",
    "plt.plot(names, values, linewidth=3, color=\"pink\", marker='o')\n",
    "# change the y-axis value to percentage\n",
    "original_yaxis = plt.gca().get_yticks()\n",
    "plt.gca().set_yticklabels([\"{:,.0%}\".format(x) for x in original_yaxis])\n",
    "# set x limits of the axes\n",
    "plt.xlim(left= -0.5)\n",
    "plt.xlim(right= 6.9)\n",
    "# set the location of x\n",
    "x_range = []\n",
    "for i in range(7):\n",
    "    x_range.append(i + 0.18)\n",
    "# set the location of y\n",
    "new_values = [values[0], values[1]-0.01, values[2], values[3]+0.02, values[4], values[5], values[6]]\n",
    "# add data label to each point\n",
    "for i in range(7):\n",
    "    plt.text(x_range[i], new_values[i]+0.005, str(round(values[i]*100, 2))+'%')\n",
    "# set the label for x-axis\n",
    "plt.xlabel(\"year\", fontsize=12)\n",
    "# set the label for y-axis\n",
    "plt.ylabel(\"first-time attendees as percentage\", fontsize=12)\n",
    "# Set the title for the plot \n",
    "plt.title(\"Changes in the percentage of first-time attendees to attend our events\", fontsize=10, color=\"navy\")"
   ]
  },
  {
   "cell_type": "code",
   "execution_count": 9,
   "id": "369428b0",
   "metadata": {
    "id": "369428b0",
    "outputId": "d27d3e83-0a96-4ce2-9b2b-84869aef53b0",
    "scrolled": true
   },
   "outputs": [
    {
     "name": "stderr",
     "output_type": "stream",
     "text": [
      "<ipython-input-9-3a6658b7f78c>:14: UserWarning: FixedFormatter should only be used together with FixedLocator\n",
      "  plt.gca().set_yticklabels([\"{:,.0%}\".format(x) for x in original_yaxis])\n"
     ]
    },
    {
     "data": {
      "text/plain": [
       "Text(0.5, 1.0, 'Changes in the percentage of major gift prospects to attend our events')"
      ]
     },
     "execution_count": 9,
     "metadata": {},
     "output_type": "execute_result"
    },
    {
     "data": {
      "image/png": "[encoded data removed]",
      "text/plain": [
       "<Figure size 432x288 with 1 Axes>"
      ]
     },
     "metadata": {
      "needs_background": "light"
     },
     "output_type": "display_data"
    }
   ],
   "source": [
    "# Changes in the percentage of Major Gift Prospects to attend our events as year passes\n",
    "# Find the mean of percentage Major Gift Prospects for each year\n",
    "avgmp = []\n",
    "for i in range(len(combined_data)):\n",
    "    avgmp.append(combined_data[i][\"Percentage Major Prospect\"].mean())\n",
    "# x-axis value \n",
    "names = [\"2013-14\", \"2014-15\", \"2015-16\", \"2016-17\", \"2017-18\", \"2018-19\",  \"2019-20\"]\n",
    "# y-axis value\n",
    "values = avgmp\n",
    "# draw the line\n",
    "plt.plot(names, values, linewidth=3, color='y', marker=\"o\")\n",
    "# change the y-axis value to percentage\n",
    "original_yaxis = plt.gca().get_yticks()\n",
    "plt.gca().set_yticklabels([\"{:,.0%}\".format(x) for x in original_yaxis])\n",
    "# set X limits of the axes\n",
    "plt.xlim(left= -0.5)\n",
    "plt.xlim(right= 6.9)\n",
    "# set the location of x\n",
    "x_range = []\n",
    "for i in range(7):\n",
    "    if i==2:\n",
    "        x_range.append(i - 0.2)\n",
    "    else:\n",
    "        x_range.append(i + 0.18)\n",
    "# set the location of y\n",
    "new_values = [values[0]-0.01, values[1], values[2]+0.02, values[3], values[4], values[5], values[6]]\n",
    "# add data label to each point\n",
    "for i in range(7):\n",
    "    plt.text(x_range[i], new_values[i]+0.005, str(round(values[i]*100, 2))+'%')\n",
    "# set the label for x-axis\n",
    "plt.xlabel(\"year\", fontsize=12)\n",
    "# set the label for y-axis\n",
    "plt.ylabel(\"major gift prospects as percentage\", fontsize=12)\n",
    "# Set the title for the plot \n",
    "plt.title(\"Changes in the percentage of major gift prospects to attend our events\", fontsize=10, color=\"navy\")"
   ]
  },
  {
   "cell_type": "code",
   "execution_count": 10,
   "id": "80975084",
   "metadata": {
    "id": "80975084",
    "outputId": "68e54409-224b-410f-ac4e-0e6be46edeca",
    "scrolled": false
   },
   "outputs": [
    {
     "data": {
      "text/plain": [
       "Text(0.5, 1.0, 'Correlation Plot')"
      ]
     },
     "execution_count": 10,
     "metadata": {},
     "output_type": "execute_result"
    },
    {
     "data": {
      "image/png": "[encoded data removed]",
      "text/plain": [
       "<Figure size 1440x720 with 2 Axes>"
      ]
     },
     "metadata": {
      "needs_background": "light"
     },
     "output_type": "display_data"
    }
   ],
   "source": [
    "# Correlation Plot\n",
    "corr = data.corr()\n",
    "plt.figure(figsize = (20, 10))\n",
    "corr_plot = sns.heatmap(corr, cbar = True, vmin = -1, vmax = 1, annot = True)\n",
    "corr_plot\n",
    "# label axes and figure title.\n",
    "plt.xlabel(\"Variables\", fontsize = 20)\n",
    "plt.ylabel(\"Variables\", fontsize = 20)\n",
    "plt.title(\"Correlation Plot\", fontsize = 40)"
   ]
  },
  {
   "cell_type": "markdown",
   "id": "7d7d0dbf",
   "metadata": {
    "id": "7d7d0dbf"
   },
   "source": [
    "## Regression Model: First Time Attendees"
   ]
  },
  {
   "cell_type": "code",
   "execution_count": 11,
   "id": "016b125c",
   "metadata": {},
   "outputs": [
    {
     "name": "stdout",
     "output_type": "stream",
     "text": [
      "MSE: 497.200\n",
      "0.7052434687986018\n",
      "0.7038126118510222\n",
      "10.374008491700804 [-0.33656403  0.37016108]\n"
     ]
    }
   ],
   "source": [
    "# Reg1: dependent variable = First Time Attendees; independent variables = Average Age, Participated\n",
    "# regression model\n",
    "y = data[\"First Time Attendees\"]\n",
    "x = data[[\"Average Age\",\"Participated\"]]\n",
    "res = LinearRegression().fit(x,y)\n",
    "# adjusted R squared value\n",
    "num_params = len(res.coef_) + 1\n",
    "adjusted_r = 1 - (1-res.score(x,y))*(len(y)-1)/(len(y)-num_params-1)\n",
    "# R squared value\n",
    "r = res.score(x,y,sample_weight=None)\n",
    "# prediction\n",
    "yhat = res.predict(x)\n",
    "# MSE\n",
    "mse = mean_squared_error(y, yhat)\n",
    "print(\"MSE: %.3f\" % mse)\n",
    "print(r)\n",
    "print(adjusted_r)\n",
    "print(res.intercept_, res.coef_) "
   ]
  },
  {
   "cell_type": "code",
   "execution_count": 12,
   "id": "86d5e228",
   "metadata": {
    "id": "86d5e228"
   },
   "outputs": [],
   "source": [
    "# Turn categorical variables to dummies\n",
    "df2 = pd.get_dummies(data[\"Group Code\"])\n",
    "df3 = pd.get_dummies(data[\"Location Code\"])\n",
    "df4 = pd.get_dummies(data[\"Activity Code\"])"
   ]
  },
  {
   "cell_type": "code",
   "execution_count": 13,
   "id": "d1168cf8",
   "metadata": {
    "id": "d1168cf8",
    "outputId": "240ffd8a-e65f-4023-9dbf-fa580b05b312",
    "scrolled": true
   },
   "outputs": [
    {
     "name": "stdout",
     "output_type": "stream",
     "text": [
      "MSE: 438.392\n",
      "0.7401072907796116\n",
      "0.7379977720359396\n",
      "5305.104194076683 [-0.03889869  0.44177711 -2.6306041  -0.78005432]\n"
     ]
    }
   ],
   "source": [
    "# Reg2: dependent variable = First Time Attendees; independent variables = Average Age, Participated, year, Major Prospects\n",
    "# regression model\n",
    "y = data[\"First Time Attendees\"]\n",
    "x2 = data[[\"Average Age\",\"Participated\",\"year\",\"Major Prospects\"]]\n",
    "res2 = LinearRegression().fit(x2,y) \n",
    "# adjusted R squared value\n",
    "num_params = len(res2.coef_) + 1\n",
    "adjusted_r2 = 1 - (1-res2.score(x2,y))*(len(y)-1)/(len(y)-num_params-1)\n",
    "# R squared value\n",
    "r2 = res2.score(x2,y,sample_weight=None)\n",
    "# prediction\n",
    "yhat = res2.predict(x2)\n",
    "# MSE\n",
    "mse2 = mean_squared_error(y, yhat)\n",
    "print(\"MSE: %.3f\" % mse2)\n",
    "print(r2)\n",
    "print(adjusted_r2)\n",
    "print(res2.intercept_, res2.coef_) "
   ]
  },
  {
   "cell_type": "code",
   "execution_count": 14,
   "id": "fac83eb9",
   "metadata": {},
   "outputs": [
    {
     "name": "stdout",
     "output_type": "stream",
     "text": [
      "MSE: 438.514\n",
      "0.7400348337323861\n",
      "0.7383494841941844\n",
      "5332.506282094231 [ 0.44300734 -2.64495079 -0.79418131]\n"
     ]
    }
   ],
   "source": [
    "# Reg3: dependent variable = First Time Attendees; independent variables = Average Age, Participated, Major Prospects\n",
    "# regression model\n",
    "y = data[\"First Time Attendees\"]\n",
    "x3 = data[[\"Participated\",\"year\",\"Major Prospects\"]]\n",
    "res3 = LinearRegression().fit(x3,y) \n",
    "# adjusted R squared value\n",
    "num_params = len(res3.coef_) + 1\n",
    "adjusted_r3 = 1 - (1-res3.score(x3,y))*(len(y)-1)/(len(y)-num_params-1)\n",
    "# R squared value\n",
    "r3 = res3.score(x3,y,sample_weight=None)\n",
    "# prediction\n",
    "yhat = res3.predict(x3)\n",
    "# MSE\n",
    "mse3 = mean_squared_error(y, yhat)\n",
    "print(\"MSE: %.3f\" % mse3)\n",
    "print(r3)\n",
    "print(adjusted_r3)\n",
    "print(res3.intercept_, res3.coef_) "
   ]
  },
  {
   "cell_type": "code",
   "execution_count": 15,
   "id": "57c038f0",
   "metadata": {},
   "outputs": [
    {
     "name": "stdout",
     "output_type": "stream",
     "text": [
      "MSE: 457.518\n",
      "0.728768504016005\n",
      "0.7270101150631104\n",
      "-2.0719180986296024 [ 0.43565049 -0.6688156 ]\n"
     ]
    }
   ],
   "source": [
    "# Reg4: dependent variable = First Time Attendees; independent variables = Participated, Major Prospects\n",
    "# regression model\n",
    "y = data[\"First Time Attendees\"]\n",
    "x4 = data[[\"Participated\",\"Major Prospects\"]]\n",
    "res4 = LinearRegression().fit(x4,y)\n",
    "# adjusted R squared value\n",
    "num_params = len(res3.coef_) + 1\n",
    "adjusted_r4 = 1 - (1-res4.score(x4,y))*(len(y)-1)/(len(y)-num_params-1)\n",
    "# R squared value\n",
    "r4 = res4.score(x4,y,sample_weight=None)\n",
    "# prediction\n",
    "yhat = res4.predict(x4)\n",
    "# MSE\n",
    "mse4 = mean_squared_error(y, yhat)\n",
    "print(\"MSE: %.3f\" % mse4)\n",
    "print(r4)\n",
    "print(adjusted_r4)\n",
    "print(res4.intercept_, res4.coef_) "
   ]
  },
  {
   "cell_type": "code",
   "execution_count": 16,
   "id": "e911e5ca",
   "metadata": {},
   "outputs": [
    {
     "name": "stdout",
     "output_type": "stream",
     "text": [
      "MSE: 280.975\n",
      "0.8334290979805801\n",
      "0.43164543871395733\n",
      "138983353494.44748 [ 2.62190734e-01  2.04405132e-01 -3.22726083e+00  3.20507982e+11\n",
      " -9.41481451e+10  9.83442112e+11 -9.41481451e+10 -5.17095523e+10\n",
      " -4.43892180e+10 -2.43422372e+11 -2.43422372e+11 -2.43422372e+11\n",
      " -2.43422372e+11  3.92240484e+11  5.04860123e+10  1.91435429e+11\n",
      "  1.64492204e+11 -1.96968543e+10 -1.23270443e+11 -7.67696861e+10\n",
      "  4.75583021e+10 -1.44749312e+11 -1.32846751e+11 -1.81408779e+11\n",
      " -3.58439921e+10 -6.56413724e+10  9.42724358e+10 -9.98849926e+10\n",
      "  1.72346953e+11 -6.72398576e+10  4.69894734e+10 -2.61853690e+10\n",
      " -7.12398911e+10  1.79291839e+11 -9.23496577e+10  9.83695263e+10\n",
      " -7.27389647e+10  5.00645130e+10 -4.93790925e+10 -1.28365876e+11\n",
      " -4.26054103e+10  7.79314466e+10 -8.60904569e+10 -1.36871194e+10\n",
      " -7.34613851e+10 -2.71240734e+10 -2.43361537e+10  2.60718831e+10\n",
      "  3.94685118e+10 -1.25054411e+11 -1.32846751e+11 -9.59936859e+10\n",
      " -3.71737667e+10 -2.37890745e+10 -8.66876363e+10 -5.84812672e+10\n",
      " -2.98236203e+10 -6.86648466e+10 -1.03883357e+11 -7.60638672e+10\n",
      " -5.44273531e+10 -1.35318482e+11  3.85664622e+10 -1.46948526e+11\n",
      " -2.54360735e+09 -9.30015535e+10  1.13466177e+10 -3.92120472e+10\n",
      " -3.29515764e+10  1.39765627e+10 -4.29910621e+10  1.26899985e+10\n",
      " -1.56851087e+11 -7.41689149e+10 -5.59330440e+10 -1.41078824e+10\n",
      "  6.08373493e+09 -5.88259457e+10  1.23169106e+11 -1.35750015e+10\n",
      " -4.02575063e+10 -4.85355696e+10 -4.26236743e+10 -6.51525449e+10\n",
      " -1.41078824e+10  5.80367535e+10 -2.52239040e+10 -1.69657376e+10\n",
      " -2.24190454e+11  3.93177961e+10 -1.41078824e+10 -3.59455711e+10\n",
      " -5.35315233e+10 -1.99998780e+10  3.68199924e+10 -1.41078824e+10\n",
      " -9.22116694e+10 -9.77513912e+10  1.73103871e+11  1.58866378e+11\n",
      " -2.43731140e+11  6.58725626e+10  8.47348654e+10  2.20311573e+10\n",
      "  7.79366382e+09 -1.87300812e+10 -1.87300812e+10 -1.56527024e+11\n",
      " -1.81067037e+10  1.18546907e+11 -3.30586878e+10 -2.10461274e+10\n",
      " -1.87300812e+10 -3.12542802e+11 -4.95529001e+10  1.18014026e+11\n",
      "  1.02113324e+11 -2.28446148e+10  2.20311573e+10  4.00539470e+10\n",
      " -1.25835836e+11  1.73103871e+11  1.91126661e+11  8.07041441e+10\n",
      "  1.91126661e+11  2.11656744e+10  2.11656744e+10  4.18524344e+10\n",
      "  6.90740997e+10 -1.87300812e+10  8.47348654e+10  1.91126661e+11\n",
      "  4.00539470e+10 -1.02034391e+11  1.33456617e+10  4.00539470e+10\n",
      "  4.00539470e+10  7.79366384e+09  7.79366384e+09  1.47430087e+11\n",
      "  1.58866378e+11 -2.79595570e+10 -4.20993337e+10  2.39757507e+11\n",
      " -4.17328874e+10 -1.06881182e+10  9.62201276e+10  1.73103871e+11\n",
      "  1.73103871e+11 -1.84413980e+09 -5.06216461e+10 -5.37293780e+10\n",
      "  4.38091714e+10  1.18546907e+11  2.11656744e+10  2.94301779e+10\n",
      "  7.79366383e+09 -1.96112979e+10 -8.73185373e+10 -4.62558985e+11\n",
      "  1.58866378e+11  1.77556765e+11  1.77556765e+11  1.12015885e+11\n",
      " -8.59514854e+10  2.94301779e+10  2.38296448e+10  2.20311573e+10\n",
      " -2.48064050e+10  1.73103871e+11  1.90188029e+09 -2.48353238e+10\n",
      "  1.34262645e+11  5.90481548e+10  6.76190324e+10  7.79366384e+09\n",
      " -4.40900819e+10 -1.10161967e+11  8.86847927e+10 -8.34536817e+10\n",
      "  1.91126661e+11  1.06982632e+11  8.86847927e+10  1.73103871e+11\n",
      "  7.79366384e+09  1.18475780e+10 -1.87300812e+10 -3.25258069e+10\n",
      "  8.86847927e+10 -1.10161967e+11  6.90740998e+10 -1.81067037e+10\n",
      "  1.77556765e+11 -8.34536817e+10  2.94301779e+10 -4.01001498e+09\n",
      "  3.12286653e+10 -3.83427461e+11 -3.25258069e+10 -8.34536817e+10\n",
      " -4.01001497e+09  5.73442719e+10 -4.25208329e+10 -1.87300812e+10\n",
      " -1.87300812e+10  2.25205040e+10 -2.66338113e+10 -3.90242940e+10\n",
      "  4.00539470e+10  1.69591570e+11 -3.25258069e+10  1.18546907e+11\n",
      "  2.51387551e+11 -2.66338113e+10  1.24438903e+11 -7.42164208e+09\n",
      " -1.10946088e+10  4.00539470e+10 -3.25258069e+10 -8.07386330e+09\n",
      "  1.24701011e+11  2.51387551e+11 -1.87300812e+10  5.73442719e+10\n",
      " -3.07273195e+10 -3.25258069e+10  4.00539470e+10 -3.07273195e+10\n",
      " -1.36821129e+10 -2.09394079e+10 -3.25258069e+10 -2.63847833e+11\n",
      " -8.88963079e+09 -3.15033325e+10  1.73103871e+11  9.59215128e+09\n",
      "  1.98738471e+10 -3.25258069e+10  9.04624621e+10  7.79366384e+09\n",
      " -9.79373008e+10 -2.56902947e+11 -1.89146214e+10  1.58866378e+11\n",
      "  5.05705897e+10  9.04624621e+10 -7.94985246e+10 -3.16310894e+11\n",
      "  6.58725626e+10 -3.25258069e+10 -2.66338113e+10  3.14288471e+09\n",
      " -1.04088424e+11 -3.07273195e+10 -3.25258069e+10 -4.25208329e+10\n",
      "  1.60372069e+11 -1.04670443e+11 -3.25258069e+10 -5.93236878e+10\n",
      " -1.10946088e+10 -3.25258069e+10  1.18546907e+11  1.10978421e+10\n",
      "  4.00539470e+10 -3.25258069e+10  5.23543974e+10  1.73103871e+11\n",
      "  1.21404762e+11 -1.87300812e+10 -5.14140795e+10 -5.27174242e+10\n",
      " -5.27174242e+10 -5.27174242e+10 -1.87300812e+10 -1.87300812e+10\n",
      " -5.27174242e+10 -5.09189368e+10  8.86847927e+10  6.90740997e+10\n",
      "  1.00314837e+11  9.83552899e+10  8.69632148e+09 -4.22915945e+10\n",
      "  6.76190324e+10  5.96747317e+10  3.14288471e+09 -3.64262723e+09\n",
      "  1.36460654e+10 -3.12542802e+11  1.18546907e+11  2.11656744e+10\n",
      "  2.11656744e+10 -2.28446148e+10 -5.92340922e+10  4.63678642e+10\n",
      " -3.25258069e+10  1.00314837e+11 -1.00539311e+11  4.63678642e+10\n",
      " -9.79373008e+10 -3.07273194e+10 -3.25258069e+10 -3.07273195e+10\n",
      " -8.34536817e+10  8.86847927e+10  6.76190324e+10  4.81663516e+10\n",
      " -3.07273195e+10  1.02113324e+11  1.18546907e+11 -8.34536817e+10\n",
      " -8.16551942e+10 -6.37618298e+09  7.79366384e+09  4.73764676e+10\n",
      " -9.54974182e+10  2.20311573e+10  1.00314837e+11 -2.96679517e+10\n",
      " -1.54031360e+10 -3.25258069e+10 -2.78694643e+10 -3.64262723e+09\n",
      " -4.04460537e+10 -8.59514854e+10 -3.25258069e+10  1.18546907e+11\n",
      " -5.27174242e+10 -9.77513912e+10 -2.96679517e+10 -3.61682079e+10\n",
      "  8.24255919e+10  2.75352257e+10 -3.12602003e+10 -3.25258069e+10\n",
      "  3.41505484e+10  1.78946261e+08  2.20311573e+10  2.16522988e+10\n",
      " -1.73161363e+10  2.20311573e+10 -9.75476933e+11  7.52050369e+10\n",
      "  1.24438903e+11  6.76190324e+10 -1.87300810e+10 -8.34016640e+10\n",
      " -8.52001515e+10 -1.06881182e+10  8.47348654e+10  6.58725626e+10\n",
      "  1.98738471e+10 -5.79803070e+10 -5.92340922e+10 -5.92340922e+10\n",
      " -8.34536817e+10  1.18546907e+11  7.79366384e+09  1.00314837e+11\n",
      " -3.25258069e+10 -3.16310894e+11  3.23013330e+10 -8.52001514e+10\n",
      "  7.92050705e+10 -3.25258069e+10  2.11656744e+10  3.14288471e+09\n",
      " -3.07273195e+10 -1.87300812e+10  4.00539470e+10  3.50892528e+10\n",
      " -4.25208329e+10 -6.99662672e+10 -4.25208329e+10 -4.25208329e+10\n",
      "  1.63264971e+11 -6.99662672e+10  1.29181886e+11 -6.99662672e+10\n",
      " -6.99662673e+10  4.18524344e+10 -3.07273195e+10 -1.71326660e+11\n",
      "  8.47348654e+10 -2.28446148e+10 -8.52001515e+10  1.52714491e+11\n",
      "  8.47348654e+10 -6.06102520e+10  1.00314837e+11  1.90188029e+09\n",
      "  2.39757507e+11  1.18546907e+11  9.83552899e+10 -3.30586878e+10\n",
      "  4.00539470e+10 -1.60502115e+09 -3.25258069e+10 -2.13790204e+09\n",
      "  6.03509636e+10 -3.25258069e+10  1.02113324e+11 -6.99662672e+10\n",
      " -6.37618291e+09  1.02113324e+11  8.47348654e+10  6.58725626e+10\n",
      " -3.07273194e+10  1.00314837e+11 -3.25258069e+10 -6.06102520e+10\n",
      "  1.89373959e+11 -9.98540128e+10 -3.95931228e+10 -3.95931228e+10\n",
      "  1.00314837e+11 -3.95931228e+10 -2.10461275e+10 -3.25258069e+10\n",
      " -3.25258070e+10 -1.17876803e+11  1.52714491e+11  1.18546907e+11\n",
      " -3.25258069e+10  5.72496674e+10  2.93337131e+10 -6.99662673e+10\n",
      "  7.79366382e+09  2.51387551e+11 -3.25258069e+10 -9.54974182e+10\n",
      " -3.95931228e+10  2.38296448e+10 -5.06216461e+10  2.93337131e+10\n",
      " -1.84413980e+09  4.00539470e+10]\n"
     ]
    }
   ],
   "source": [
    "# Reg5: dependent variable = First Time Attendees; independent variables = Average Age, Participated, Group Code, Locaation Code, Activity Code\n",
    "# regression model\n",
    "y = data[\"First Time Attendees\"]\n",
    "x5 = pd.concat((data[\"Participated\"],data[\"Major Prospects\"],data[\"year\"],df2,df3,df4),axis=1)\n",
    "res5 = LinearRegression().fit(x5,y) \n",
    "# adjusted R squared value\n",
    "num_params = len(res5.coef_) + 1\n",
    "adjusted_r5 = 1 - (1-res5.score(x5,y))*(len(y)-1)/(len(y)-num_params-1)\n",
    "# R squared value\n",
    "r5 = res5.score(x5,y,sample_weight=None)\n",
    "# prediction\n",
    "yhat = res5.predict(x5)\n",
    "# MSE\n",
    "mse5 = mean_squared_error(y, yhat)\n",
    "print(\"MSE: %.3f\" % mse5)\n",
    "print(r5)\n",
    "print(adjusted_r5)\n",
    "print(res5.intercept_, res5.coef_) "
   ]
  },
  {
   "cell_type": "code",
   "execution_count": 17,
   "id": "d377286a",
   "metadata": {},
   "outputs": [
    {
     "name": "stdout",
     "output_type": "stream",
     "text": [
      "MSE: 281.268\n",
      "0.8332551049458576\n",
      "0.5517377496596432\n",
      "6386.8121199625075 [ 2.61890974e-01  2.08681991e-01 -3.16609057e+00 -4.63313293e+00\n",
      " -1.03030897e+01 -3.68808630e+00 -4.33060372e-01 -1.65188375e+00\n",
      " -1.78908077e+00  1.36519039e+00 -2.17051940e-01 -1.79579976e+00\n",
      "  1.21113184e+00 -4.11296898e+00  2.57760796e+00  2.22193389e+00\n",
      " -4.04051264e-01 -5.70532375e-01  2.65587721e+00  1.54871367e+00\n",
      "  1.14773391e+00 -1.08197052e+00  9.20254420e-01  6.55540903e-01\n",
      " -4.71646476e-01 -2.17692090e+00 -2.94158872e+00 -1.49749212e+00\n",
      "  5.58453137e+00  1.86152198e+01 -2.62358139e+00  1.95343705e+01\n",
      " -2.01239259e-01 -2.01218452e+00  3.06813517e+00 -7.83906509e+00\n",
      " -6.92608360e-02 -5.67381769e+00 -5.85310575e+00 -8.46684359e-01\n",
      "  1.52486657e+00 -2.09141664e+00  4.29546506e+00 -4.69423189e-01\n",
      "  7.52156494e-01  1.12885556e+00 -6.29445354e+00  2.93500442e+00\n",
      " -6.33025733e+00  7.66701807e-02  2.86838947e+00  3.43984646e-01\n",
      "  2.32248558e+00 -2.32359709e+01  5.12920655e+00 -1.21254387e+01\n",
      " -1.72681037e+01 -2.28635211e+01 -9.90902181e+00  1.89956441e+00\n",
      " -1.11649329e+01  1.05921765e+01  5.66334401e+00 -8.53506068e+00\n",
      "  1.32740003e+00  2.81242636e+00 -2.97465478e+00 -7.42744211e-01\n",
      "  5.38410851e+00 -4.05893767e+00  1.33269447e+00  2.80565652e+00\n",
      " -7.93512972e-01  6.29010305e+00  7.35428171e+00  2.84544959e+00\n",
      "  9.47538616e+00  4.73794975e+00  2.88397616e+00 -9.37425024e+00\n",
      " -1.81543060e+01 -3.44228596e+00  4.61586096e+00 -3.97183984e-01\n",
      " -3.18751113e+00  1.39681679e+00  3.82731273e+00 -2.23341555e+00\n",
      "  1.48787831e+00 -7.02283759e-01  1.56546060e+00  2.35025261e+00\n",
      "  4.97500309e+00 -2.64770994e+00 -1.91485007e+00  1.52571528e+01\n",
      "  8.81166779e+00 -2.10106909e+00 -1.82255694e+00  3.86125050e-01\n",
      " -6.31887384e+00 -6.59747470e-02  5.59040085e-01 -3.29550744e+01\n",
      " -1.91289335e+00  9.52276825e-01 -3.43085949e+00 -7.27521427e+00\n",
      " -5.67381769e+00 -4.07997943e-01  4.80267050e+00 -4.91819550e+00\n",
      " -2.21306251e-01  2.91174241e+00  6.55540903e-01  3.95230580e+00\n",
      "  4.87926799e+00 -3.53944813e-01 -4.19740246e+00  1.67384807e-01\n",
      " -1.00766915e+01  2.21930105e+00  2.41556101e+00 -1.65188375e+00\n",
      "  2.85009101e+00  2.87707979e-01  2.87068708e+00 -8.08929079e+00\n",
      " -1.21187366e-01 -3.39267665e+00  2.00936196e+00  5.17317473e-02\n",
      "  2.77796247e+00 -3.53536833e+00  1.88677488e+01  6.23657869e+00\n",
      " -1.25368360e-01 -1.99805683e+01  1.26168255e+01 -1.01723147e+00\n",
      "  3.87209877e+00  7.91021800e-01 -7.64559857e+00 -3.53712051e+00\n",
      " -7.96647240e-02 -5.79352335e+00 -5.07355988e+00  7.88385663e+00\n",
      "  9.87992677e+00  6.44508987e+00 -3.41555698e-01  3.06137536e+00\n",
      " -8.71656135e+00  7.95479124e+00 -1.81367022e+01 -2.12205398e+01\n",
      "  9.71230257e+00  1.30943770e-01 -5.28417133e-01  3.05711013e+00\n",
      "  3.06813517e+00  6.30669804e+00 -8.34447740e+00 -9.63995349e+00\n",
      "  6.78124599e-01  5.59597927e-01  2.65587721e+00  9.54682589e+00\n",
      " -1.50196848e+01 -1.99802379e+00 -2.79165280e+00  4.18833681e+00\n",
      " -2.00076509e+01 -2.32687763e+01 -8.26450831e+00  1.59605651e+00\n",
      "  3.32896613e+00 -4.04123939e+00 -4.99432777e+00  1.54871367e+00\n",
      "  2.62596237e+00  4.61749814e+00  3.42265413e+00 -5.48358296e+00\n",
      "  4.11523672e+00  1.95747089e+00  4.11188050e+00  3.14435589e+00\n",
      " -1.59453888e-01 -1.15323398e+00 -7.69488027e-01 -4.10133244e+00\n",
      "  3.72640146e-02  1.06992698e+00 -8.39201503e-01  4.59280000e+00\n",
      "  2.80565652e+00  3.28187457e+00 -1.50588168e+01  1.48527138e+00\n",
      " -1.19114048e+00  1.36799711e+00  7.58202572e+00  6.90094145e+00\n",
      " -1.37424077e+00 -7.90575711e+00 -1.40921785e+00 -3.39884439e+00\n",
      " -6.92608360e-02 -5.40604666e+00  9.20254420e-01 -1.08337402e+00\n",
      " -1.15737219e+01 -1.00202726e+01  1.22192349e+00 -9.90447859e+00\n",
      "  1.43225552e+01  3.82757376e+00  3.65313213e+00  5.10372263e+00\n",
      " -1.40898109e+01 -1.20080623e+01  4.62972824e+00  6.66520962e+00\n",
      "  4.26062696e+00 -1.71601955e+01 -1.55470767e+01 -8.11203423e+00\n",
      " -7.55600270e+00 -5.75601311e+00 -1.37746790e+01 -8.61725342e+00\n",
      " -4.24908083e+00 -4.69423189e-01 -1.03983459e-01  4.02071790e-02\n",
      "  5.40052657e+00  5.95747089e+00  3.55981551e+00 -3.07692013e-01\n",
      "  5.19146762e-01  8.25416167e+00  4.52362267e+00  1.13326945e+01\n",
      "  9.47215246e+00  6.81986242e+00  4.88122364e+00  9.20028007e+00\n",
      " -2.28221893e+00  8.34755109e-01 -3.12066294e+00 -2.09504899e-01\n",
      "  1.26575404e+01  3.64769412e+00  2.80473346e+00  2.13454264e+00\n",
      "  3.68526187e+01  3.77831621e+00 -2.16461196e+00  6.60342826e-01\n",
      " -1.06187246e+01 -1.14898224e+00 -2.64557410e-02 -1.13296615e+00\n",
      " -2.05980613e+01 -5.95865793e-01  2.93500442e+00  1.65431300e+00\n",
      " -5.66240329e+00  1.58594240e+01 -9.78745850e+00  4.86056265e+00\n",
      "  7.20651473e+00 -2.47759436e+00  1.91717058e+00  1.04288985e+01\n",
      " -2.42743923e+00  2.03660278e+00  5.96795977e+00  1.35929667e+00\n",
      "  7.86742632e+00  1.30822448e+00 -4.63313293e+00 -4.22053746e+00\n",
      "  3.60055519e-01 -4.96968231e+00  4.51456150e+00  1.15004549e+00\n",
      " -7.60347959e+00 -6.50755050e+00 -9.48688367e+00  3.89255448e+00\n",
      "  5.83827161e+00  8.46885720e+00 -7.92744822e+00 -4.40006793e+00\n",
      " -9.99755769e+00  2.31547929e+02 -2.79068583e+00  2.54553154e+00\n",
      "  9.67380230e-01 -6.41003638e+00 -4.13145404e+00  3.02839850e+00\n",
      " -5.70532375e-01  7.26059909e+00  1.84390772e+00  7.06008198e-01\n",
      "  4.83747030e+00  3.34460752e+00 -1.44085482e+01 -1.35203084e-02\n",
      " -4.44683494e+00 -4.11761029e+00  8.59081397e+00 -6.99990215e+00\n",
      "  6.04398853e+00  8.52362267e+00  5.65070649e+00  6.59997330e+00\n",
      " -1.67080480e+01  8.42782226e+00  4.53890120e+00 -6.02812758e+00\n",
      "  9.03553726e+01  1.03151882e+00 -2.43261673e+00  5.58453137e+00\n",
      "  7.67599552e+01 -1.05460931e+00  4.39255602e+01  1.31393082e+01\n",
      " -3.10825380e+01  1.48490541e+00 -1.14011276e+01 -7.18775893e+01\n",
      "  1.60061666e+01 -2.12952510e+01 -3.25506615e+00 -1.20256107e+01\n",
      " -8.47738653e+00 -1.18675684e+01 -2.58792511e+00  2.74744498e+00\n",
      " -4.96107746e+00  1.50476414e+00  4.84894909e+00 -8.98575296e+00\n",
      "  1.63674308e+00 -4.20956689e+00 -1.01203699e+01 -1.36357205e+01\n",
      "  1.60861213e+01 -3.59874988e+00  1.06628359e+02  4.01324318e+01\n",
      " -2.92164442e+01 -2.77898945e+01  2.25937802e+00  1.56361511e+01\n",
      " -4.46238166e+01 -2.27120494e+00  2.29316475e+00 -6.31889124e+00\n",
      " -2.24773745e+00 -1.19835216e+01 -1.24252538e+01  3.11498562e+01\n",
      " -1.92029252e+01 -6.89274832e+01 -1.11174625e+01 -5.69095096e+01\n",
      " -6.62713514e+00  4.51275593e+01  2.88484367e+00 -2.20712559e+01\n",
      " -6.34546327e+00  9.54571527e+00  1.17634629e+01 -1.47262378e+01\n",
      " -2.72619430e+00  2.83521302e+00  2.37472977e+00 -7.52515507e+00\n",
      " -7.78234855e+00 -1.63680834e+01 -1.03774173e+01 -1.80554337e+00\n",
      " -9.36947378e+00]\n"
     ]
    }
   ],
   "source": [
    "# Reg6: dependent variable = First Time Attendees; independent variables = Participated, Major Prospects, year, Location Code, Activity Code \n",
    "# regression model\n",
    "y = data[\"First Time Attendees\"]\n",
    "x6 = pd.concat((data[\"Participated\"],data[\"Major Prospects\"],data[\"year\"],df3,df4),axis=1)\n",
    "res6 = LinearRegression().fit(x6,y) \n",
    "# adjusted R squared value\n",
    "num_params = len(res6.coef_) + 1\n",
    "adjusted_r6 = 1 - (1-res6.score(x6,y))*(len(y)-1)/(len(y)-num_params-1)\n",
    "# R squared value\n",
    "r6 = res6.score(x6,y,sample_weight=None)\n",
    "# prediction\n",
    "yhat = res6.predict(x6)\n",
    "# MSE\n",
    "mse6 = mean_squared_error(y, yhat)\n",
    "print(\"MSE: %.3f\" % mse6)\n",
    "print(r6)\n",
    "print(adjusted_r6)\n",
    "print(res6.intercept_, res6.coef_) "
   ]
  },
  {
   "cell_type": "code",
   "execution_count": 18,
   "id": "3fc4d46f",
   "metadata": {},
   "outputs": [
    {
     "name": "stdout",
     "output_type": "stream",
     "text": [
      "MSE: 281.304\n",
      "0.833234027189377\n",
      "0.6247765611760983\n",
      "-64943855226.47517 [ 2.61991053e-01  2.04315337e-01 -3.17315307e+00  6.49438616e+10\n",
      "  6.49438616e+10  6.49438616e+10  6.49438616e+10  6.49438616e+10\n",
      "  6.49438616e+10  6.49438616e+10  6.49438616e+10  6.49438616e+10\n",
      "  6.49438616e+10  6.49438616e+10  6.49438616e+10  6.49438616e+10\n",
      "  6.49438616e+10  6.49438616e+10  6.49438616e+10  6.49438616e+10\n",
      "  6.49438616e+10  6.49438616e+10  6.49438616e+10  6.49438616e+10\n",
      "  6.49438616e+10  6.49438616e+10  6.49438616e+10  6.49438616e+10\n",
      "  6.49438616e+10  6.49438616e+10  6.49438616e+10  6.49438616e+10\n",
      "  6.49438616e+10  6.49438616e+10  6.49438616e+10  6.49438616e+10\n",
      "  6.49438616e+10  6.49438616e+10  6.49438616e+10  6.49438616e+10\n",
      "  6.49438616e+10  6.49438616e+10  6.49438616e+10  6.49438616e+10\n",
      "  6.49438616e+10  6.49438616e+10  6.49438616e+10  6.49438616e+10\n",
      "  6.49438616e+10  6.49438616e+10  6.49438616e+10  6.49438616e+10\n",
      "  6.49438616e+10  6.49438616e+10  6.49438616e+10  6.49438616e+10\n",
      "  6.49438616e+10  6.49438616e+10  6.49438616e+10  6.49438616e+10\n",
      "  6.49438616e+10  6.49438616e+10  6.49438616e+10  6.49438616e+10\n",
      "  6.49438616e+10  6.49438616e+10  6.49438616e+10  6.49438616e+10\n",
      "  6.49438616e+10  6.49438616e+10  6.49438616e+10  6.49438616e+10\n",
      "  6.49438616e+10  6.49438616e+10  6.49438616e+10  6.49438616e+10\n",
      "  6.49438616e+10  6.49438616e+10  6.49438616e+10  6.49438616e+10\n",
      "  6.49438616e+10  6.49438616e+10  6.49438616e+10  6.49438616e+10\n",
      "  6.49438616e+10  6.49438616e+10  6.49438616e+10  6.49438616e+10\n",
      "  6.49438616e+10  6.49438616e+10  6.49438616e+10  6.49438616e+10\n",
      "  6.49438616e+10  6.49438616e+10  6.49438616e+10  6.49438616e+10\n",
      "  6.49438616e+10  6.49438616e+10  6.49438616e+10  6.49438616e+10\n",
      "  6.49438616e+10  6.49438616e+10  6.49438616e+10  6.49438616e+10\n",
      "  6.49438616e+10  6.49438616e+10  6.49438616e+10  6.49438616e+10\n",
      "  6.49438616e+10  6.49438616e+10  6.49438616e+10  6.49438616e+10\n",
      "  6.49438616e+10  6.49438616e+10  6.49438616e+10  6.49438616e+10\n",
      "  6.49438616e+10  6.49438616e+10  6.49438616e+10  6.49438616e+10\n",
      "  6.49438616e+10  6.49438616e+10  6.49438616e+10  6.49438616e+10\n",
      "  6.49438616e+10  6.49438616e+10  6.49438616e+10  6.49438616e+10\n",
      "  6.49438616e+10  6.49438616e+10  6.49438616e+10  6.49438616e+10\n",
      "  6.49438616e+10  6.49438616e+10  6.49438616e+10  6.49438616e+10\n",
      "  6.49438616e+10  6.49438616e+10  6.49438616e+10  6.49438616e+10\n",
      "  6.49438616e+10  6.49438616e+10  6.49438616e+10  6.49438616e+10\n",
      "  6.49438616e+10  6.49438616e+10  6.49438616e+10  6.49438616e+10\n",
      "  6.49438616e+10  6.49438616e+10  6.49438616e+10  6.49438616e+10\n",
      "  6.49438616e+10  6.49438616e+10  6.49438616e+10  6.49438616e+10\n",
      "  6.49438616e+10  6.49438616e+10  6.49438616e+10  6.49438616e+10\n",
      "  6.49438616e+10  6.49438616e+10  6.49438616e+10  6.49438616e+10\n",
      "  6.49438616e+10  6.49438616e+10  6.49438616e+10  6.49438616e+10\n",
      "  6.49438616e+10  6.49438616e+10  6.49438616e+10  6.49438616e+10\n",
      "  6.49438616e+10  6.49438616e+10  6.49438616e+10  6.49438616e+10\n",
      "  6.49438616e+10  6.49438616e+10  6.49438616e+10  6.49438616e+10\n",
      "  6.49438616e+10  6.49438616e+10  6.49438616e+10  6.49438616e+10\n",
      "  6.49438616e+10  6.49438616e+10  6.49438616e+10  6.49438616e+10\n",
      "  6.49438616e+10  6.49438616e+10  6.49438616e+10  6.49438616e+10\n",
      "  6.49438616e+10  6.49438616e+10  6.49438616e+10  6.49438616e+10\n",
      "  6.49438616e+10  6.49438616e+10  6.49438616e+10  6.49438616e+10\n",
      "  6.49438616e+10  6.49438616e+10  6.49438616e+10  6.49438616e+10\n",
      "  6.49438616e+10  6.49438616e+10  6.49438616e+10  6.49438616e+10\n",
      "  6.49438616e+10  6.49438616e+10  6.49438616e+10  6.49438617e+10\n",
      "  6.49438616e+10  6.49438616e+10  6.49438616e+10  6.49438616e+10\n",
      "  6.49438616e+10  6.49438616e+10  6.49438616e+10  6.49438616e+10\n",
      "  6.49438616e+10  6.49438616e+10  6.49438616e+10  6.49438616e+10\n",
      "  6.49438616e+10  6.49438616e+10  6.49438616e+10  6.49438616e+10\n",
      "  6.49438616e+10  6.49438616e+10  6.49438616e+10  6.49438616e+10\n",
      "  6.49438616e+10  6.49438616e+10  6.49438616e+10  6.49438616e+10\n",
      "  6.49438616e+10  6.49438616e+10  6.49438616e+10  6.49438616e+10\n",
      "  6.49438616e+10  6.49438616e+10  6.49438616e+10  6.49438616e+10\n",
      "  6.49438616e+10  6.49438616e+10  6.49438616e+10  6.49438616e+10\n",
      "  6.49438616e+10  6.49438616e+10  6.49438616e+10  6.49438616e+10\n",
      "  6.49438619e+10  6.49438616e+10  6.49438616e+10  6.49438616e+10\n",
      "  6.49438616e+10  6.49438616e+10  6.49438616e+10  6.49438616e+10\n",
      "  6.49438616e+10  6.49438616e+10  6.49438616e+10  6.49438616e+10\n",
      "  6.49438616e+10  6.49438616e+10  6.49438616e+10  6.49438616e+10\n",
      "  6.49438616e+10  6.49438616e+10  6.49438616e+10  6.49438616e+10\n",
      "  6.49438616e+10  6.49438616e+10  6.49438616e+10  6.49438616e+10\n",
      "  6.49438616e+10  6.49438616e+10  6.49438616e+10  6.49438617e+10\n",
      "  6.49438616e+10  6.49438616e+10  6.49438616e+10  6.49438617e+10\n",
      "  6.49438616e+10  6.49438617e+10  6.49438616e+10  6.49438616e+10\n",
      "  6.49438616e+10  6.49438616e+10  6.49438616e+10  6.49438616e+10\n",
      "  6.49438616e+10  6.49438616e+10  6.49438616e+10  6.49438616e+10\n",
      "  6.49438616e+10  6.49438616e+10  6.49438616e+10  6.49438616e+10\n",
      "  6.49438616e+10  6.49438616e+10  6.49438616e+10  6.49438616e+10\n",
      "  6.49438616e+10  6.49438616e+10  6.49438616e+10  6.49438616e+10\n",
      "  6.49438616e+10  6.49438617e+10  6.49438617e+10  6.49438616e+10\n",
      "  6.49438616e+10  6.49438616e+10  6.49438616e+10  6.49438616e+10\n",
      "  6.49438616e+10  6.49438616e+10  6.49438616e+10  6.49438616e+10\n",
      "  6.49438616e+10  6.49438616e+10  6.49438617e+10  6.49438616e+10\n",
      "  6.49438615e+10  6.49438616e+10  6.49438616e+10  6.49438616e+10\n",
      "  6.49438617e+10  6.49438616e+10  6.49438616e+10  6.49438616e+10\n",
      "  6.49438616e+10  6.49438616e+10  6.49438616e+10  6.49438616e+10\n",
      "  6.49438616e+10  6.49438616e+10  6.49438616e+10  6.49438616e+10\n",
      "  6.49438616e+10  6.49438616e+10  6.49438616e+10  6.49438616e+10]\n"
     ]
    }
   ],
   "source": [
    "# Reg7: dependent variable = First Time Attendees; independent variables = Participated, Major Prospects, year, Activity Code\n",
    "# regression model\n",
    "y = data[\"First Time Attendees\"]\n",
    "x7 = pd.concat((data[\"Participated\"],data[\"Major Prospects\"],data[\"year\"],df4),axis=1)\n",
    "res7 = LinearRegression().fit(x7,y) \n",
    "# adjusted R squared value\n",
    "num_params = len(res7.coef_) + 1\n",
    "adjusted_r7 = 1 - (1-res7.score(x7,y))*(len(y)-1)/(len(y)-num_params-1)\n",
    "# R squared value\n",
    "r7 = res7.score(x7,y,sample_weight=None)\n",
    "# prediciton\n",
    "yhat = res7.predict(x7)\n",
    "# MSE\n",
    "mse7 = mean_squared_error(y, yhat)\n",
    "print(\"MSE: %.3f\" % mse7)\n",
    "print(r7)\n",
    "print(adjusted_r7)\n",
    "print(res7.intercept_, res7.coef_) "
   ]
  },
  {
   "cell_type": "code",
   "execution_count": 19,
   "id": "4159e6a5",
   "metadata": {},
   "outputs": [
    {
     "data": {
      "text/plain": [
       "Text(0, 0.5, 'Adjusted R2 Score')"
      ]
     },
     "execution_count": 19,
     "metadata": {},
     "output_type": "execute_result"
    },
    {
     "data": {
      "image/png": "[encoded data removed]",
      "text/plain": [
       "<Figure size 432x288 with 1 Axes>"
      ]
     },
     "metadata": {
      "needs_background": "light"
     },
     "output_type": "display_data"
    }
   ],
   "source": [
    "# Comparsion plot of adjusted R squared values with 7 models\n",
    "x_values = [\"Model 1\",\"Model 2\",\"Model 3\",\"Model 4\",\"Model 5\",\"Model 6\",\"Model 7\"]\n",
    "y_values = [adjusted_r,adjusted_r2,adjusted_r3,adjusted_r4,adjusted_r5,adjusted_r6,adjusted_r7]\n",
    "plt.plot(x_values,y_values,'kv-')\n",
    "plt.xlabel(\"Model Name\")\n",
    "plt.ylabel(\"Adjusted R2 Score\")"
   ]
  },
  {
   "cell_type": "code",
   "execution_count": 20,
   "id": "5e507a14",
   "metadata": {},
   "outputs": [
    {
     "data": {
      "text/plain": [
       "Text(0, 0.5, 'Mean Squared Error')"
      ]
     },
     "execution_count": 20,
     "metadata": {},
     "output_type": "execute_result"
    },
    {
     "data": {
      "image/png": "[encoded data removed]",
      "text/plain": [
       "<Figure size 432x288 with 1 Axes>"
      ]
     },
     "metadata": {
      "needs_background": "light"
     },
     "output_type": "display_data"
    }
   ],
   "source": [
    "# Comparsion plot of adjusted MSE with 7 models\n",
    "x1_values = [\"Model 1\",\"Model 2\",\"Model 3\",\"Model 4\",\"Model 5\",\"Model 6\",\"Model 7\"]\n",
    "y1_values = [mse, mse2, mse3, mse4, mse5, mse6, mse7]\n",
    "plt.plot(x1_values,y1_values,'kv-')\n",
    "plt.xlabel(\"Model Name\")\n",
    "plt.ylabel(\"Mean Squared Error\")"
   ]
  },
  {
   "cell_type": "markdown",
   "id": "5ad09677",
   "metadata": {
    "id": "5ad09677"
   },
   "source": [
    "## Regresssion Model: Major Prospects"
   ]
  },
  {
   "cell_type": "code",
   "execution_count": 21,
   "id": "b3358315",
   "metadata": {},
   "outputs": [
    {
     "name": "stdout",
     "output_type": "stream",
     "text": [
      "MSE: 78.596\n",
      "0.6053448864819214\n",
      "0.602141517054015\n",
      "3757.7547607089027 [ 0.34793641  0.14645916 -1.86957154 -0.13985057]\n"
     ]
    }
   ],
   "source": [
    "# Reg1: dependent variable = Major Prospects; independent variables = Average Age, Participated, year, First Time Attendees\n",
    "# regression model\n",
    "y = data[\"Major Prospects\"]\n",
    "x = data[[\"Average Age\",\"Participated\",\"year\",\"First Time Attendees\"]]  \n",
    "res = LinearRegression().fit(x,y)\n",
    "# adjusted R squared value\n",
    "num_params = len(res.coef_) + 1\n",
    "adjusted_rm = 1 - (1-res.score(x,y))*(len(y)-1)/(len(y)-num_params-1)\n",
    "# prediction\n",
    "yhat = res.predict(x)\n",
    "# MSE\n",
    "mse_1 = mean_squared_error(y, yhat)\n",
    "print(\"MSE: %.3f\" % mse_1)\n",
    "print(res.score(x,y,sample_weight=None))\n",
    "print(adjusted_rm)\n",
    "print(res.intercept_, res.coef_)"
   ]
  },
  {
   "cell_type": "code",
   "execution_count": 22,
   "id": "725ce3d8",
   "metadata": {},
   "outputs": [
    {
     "name": "stdout",
     "output_type": "stream",
     "text": [
      "MSE: 67.072\n",
      "0.6632129228882543\n",
      "0.631137963163326\n",
      "3694.2439406457597 [ 0.13515513 -1.83713772 -0.10959331  0.29558369  0.80112024  0.90501683\n",
      " -1.93823987 -5.33793524  2.91972992  0.74548103 -6.80333447  0.1086277\n",
      "  0.85968337 -1.42055702  3.10901921  4.20992713 -1.72105193 -0.93491682\n",
      " -0.66859425 -2.03041487 23.71635133  2.77334049 -0.85378407  5.30189691\n",
      " 10.969656   -3.5856542  -0.98668416 -2.25924459 -1.52898116 -0.57141389\n",
      "  0.09700956  3.66628699  3.86639221 -0.78584726  0.48542108  0.49809705\n",
      " -3.67691869 -3.66836453  1.33286653 -4.92274258  1.16999002 -2.76269315\n",
      " -8.03195725 -1.90729675 -6.19093722  2.1146585  -0.46954017 -3.50057267\n",
      " -2.40245016  2.16412166 -3.79424914  3.92322011 -2.98353778]\n"
     ]
    }
   ],
   "source": [
    "# Reg2: dependent variables = Major prospects, independent variables = Participated, year, First time Attendees, AverageAge, Group Code\n",
    "# regression model\n",
    "y = data[\"Major Prospects\"]\n",
    "xm=pd.concat((data[\"Participated\"],data[\"year\"],data[\"First Time Attendees\"],data[\"Average Age\"],df2),axis=1)\n",
    "res = LinearRegression().fit(xm,y)\n",
    "# adjusted R squared value\n",
    "num_params = len(res.coef_) + 1\n",
    "adjusted_rm2 = 1 - (1-res.score(xm,y))*(len(y)-1)/(len(y)-num_params-1)\n",
    "# prediction\n",
    "yhat = res.predict(xm)\n",
    "# MSE\n",
    "mse_2 = mean_squared_error(y, yhat)\n",
    "print(\"MSE: %.3f\" % mse_2)\n",
    "print(res.score(xm,y,sample_weight=None))\n",
    "print(adjusted_rm2)\n",
    "print(res.intercept_, res.coef_)"
   ]
  },
  {
   "cell_type": "code",
   "execution_count": 23,
   "id": "72f72544",
   "metadata": {},
   "outputs": [
    {
     "name": "stdout",
     "output_type": "stream",
     "text": [
      "MSE: 59.965\n",
      "0.6988981317853225\n",
      "0.6417926050549525\n",
      "-17619066122.52527 [ 1.28862226e-01 -1.86845660e+00 -1.01307990e-01  4.24208873e-01\n",
      " -4.70444485e+10 -4.70444485e+10 -4.70444485e+10 -4.70444485e+10\n",
      " -4.70444485e+10 -4.70444485e+10 -4.70444485e+10 -4.70444485e+10\n",
      " -4.70444485e+10 -4.70444485e+10 -4.70444485e+10 -4.70444485e+10\n",
      " -4.70444485e+10 -4.70444485e+10 -4.70444485e+10 -4.70444485e+10\n",
      " -4.70444485e+10 -4.70444485e+10 -4.70444485e+10 -4.70444485e+10\n",
      " -4.70444485e+10 -4.70444485e+10 -4.70444485e+10 -4.70444485e+10\n",
      " -4.70444485e+10 -4.70444485e+10 -4.70444485e+10 -4.70444485e+10\n",
      " -4.70444485e+10 -4.70444485e+10 -4.70444485e+10 -4.70444485e+10\n",
      " -4.70444485e+10 -4.70444485e+10 -4.70444485e+10 -4.70444485e+10\n",
      " -4.70444485e+10 -4.70444485e+10 -4.70444485e+10 -4.70444485e+10\n",
      " -4.70444485e+10 -4.70444485e+10 -4.70444485e+10 -4.70444485e+10\n",
      " -4.70444485e+10 -4.70444485e+10 -4.70444485e+10 -4.70444485e+10\n",
      " -4.70444485e+10  6.46635184e+10  6.46635184e+10  6.46635184e+10\n",
      "  6.46635184e+10  6.46635184e+10  6.46635184e+10  6.46635184e+10\n",
      "  6.46635184e+10  6.46635184e+10  6.46635184e+10  6.46635184e+10\n",
      "  6.46635184e+10  6.46635184e+10  6.46635184e+10  6.46635184e+10\n",
      "  6.46635184e+10  6.46635184e+10  6.46635184e+10  6.46635184e+10\n",
      "  6.46635184e+10  6.46635184e+10  6.46635184e+10  6.46635184e+10\n",
      "  6.46635184e+10  6.46635184e+10  6.46635184e+10  6.46635184e+10\n",
      "  6.46635184e+10  6.46635184e+10  6.46635184e+10  6.46635184e+10\n",
      "  6.46635184e+10  6.46635184e+10  6.46635184e+10  6.46635184e+10\n",
      "  6.46635184e+10  6.46635184e+10  6.46635184e+10  6.46635184e+10\n",
      "  6.46635184e+10  6.46635184e+10  6.46635184e+10  6.46635184e+10\n",
      "  6.46635184e+10  6.46635184e+10]\n"
     ]
    }
   ],
   "source": [
    "# Reg3: dependent variables = Major prospects, independent variables = participated, year, First time Attendees, Average Age, Group Code, Location Code.\n",
    "# regression model\n",
    "y = data[\"Major Prospects\"]\n",
    "xm2=pd.concat((data[\"Participated\"],data[\"year\"],data[\"First Time Attendees\"],data[\"Average Age\"],df2,df3),axis=1)\n",
    "res = LinearRegression().fit(xm2,y)\n",
    "# adjusted R squared value\n",
    "num_params = len(res.coef_) + 1\n",
    "adjusted_rm3 = 1 - (1-res.score(xm2,y))*(len(y)-1)/(len(y)-num_params-1)\n",
    "# prediction\n",
    "yhat = res.predict(xm2)\n",
    "# MSE\n",
    "mse_3 = mean_squared_error(y, yhat)\n",
    "print(\"MSE: %.3f\" % mse_3)\n",
    "print(res.score(xm2,y,sample_weight=None))\n",
    "print(adjusted_rm3)\n",
    "print(res.intercept_, res.coef_)"
   ]
  },
  {
   "cell_type": "code",
   "execution_count": 24,
   "id": "d6fbf9d9",
   "metadata": {},
   "outputs": [
    {
     "name": "stdout",
     "output_type": "stream",
     "text": [
      "MSE: 13.577\n",
      "0.9318246874201794\n",
      "0.7660946457896765\n",
      "3063.7973056191054 [ 5.46247301e-02 -1.52280907e+00  8.97546009e-03  2.37407165e-01\n",
      " -2.24035715e+00  3.61475319e+00 -2.00003209e+00  7.75302441e+00\n",
      " -1.86017266e-01 -7.63806275e-01 -3.46937703e+00  2.21420875e+00\n",
      "  5.51707071e-01 -2.16826365e-01  1.00666407e+00  4.07284125e-01\n",
      "  1.69513583e-01 -2.43798326e-01  2.82185915e+00 -1.40619533e+00\n",
      "  1.85578129e+01  5.53796818e+00 -2.74867481e+00  1.63702295e+00\n",
      "  6.65484087e+00  2.13155223e+00 -1.70762917e+00 -1.25459148e+00\n",
      " -8.71493772e-01 -1.18687990e+00 -5.11776110e-01  1.62391696e-02\n",
      "  1.12518919e+00 -5.02917793e-01 -1.17186291e+00  3.86214254e-01\n",
      " -1.35302505e+00 -3.05908548e+00  5.58356938e-02 -4.82507549e+00\n",
      "  5.75397550e-01 -2.88907717e+00 -7.14760400e+00 -4.08231831e-01\n",
      " -2.82232024e+00  4.97547103e-02 -1.34806025e+00 -5.70053862e+00\n",
      " -3.22692405e+00 -7.61201639e-01 -6.98586784e-01  4.46611400e-01\n",
      " -9.91487132e-01 -1.52268084e+00 -1.29873023e+00  1.83556496e+00\n",
      " -2.01826609e+00  1.87166569e+00 -2.43632106e-01 -1.24068681e+00\n",
      "  9.42159687e-01  2.46099705e-01 -3.71399111e-01 -4.64682586e-01\n",
      "  1.79461200e+00 -7.28196188e-01 -3.37512914e+00 -1.95861858e-01\n",
      " -8.34260437e-01  2.10768508e-01  2.34481103e+00 -6.46908523e-01\n",
      " -6.78819275e-01 -2.64258506e+00  1.56054546e+01 -2.08733546e+00\n",
      "  4.79091132e-01 -1.71053699e+00  5.23564910e-01 -1.61533819e+00\n",
      "  5.09652918e-02  1.02457629e+01 -2.09076756e+00 -1.79244279e+00\n",
      "  9.26477704e-01  1.08028161e+01  7.58787821e-01 -5.51203520e+00\n",
      " -6.32641995e+00 -4.24124368e+00 -2.84529091e-02 -2.09216720e-01\n",
      " -2.67086831e+00 -2.57139420e+00 -1.57449932e+00  6.00762498e-01\n",
      "  3.07827846e+00 -3.62525345e+00 -5.33222736e-01  8.30446662e-01\n",
      "  2.67410477e+00 -2.53955838e+00  1.62939626e+00 -1.17980717e+01\n",
      "  1.05054847e+00  1.49573531e-01 -2.97225266e-02  5.23770941e-01\n",
      " -2.43798326e-01  1.28470419e+00  2.14952787e+00  4.29192395e+00\n",
      " -7.97853593e+00 -3.86005980e+00 -4.46183454e-01 -2.00958858e+00\n",
      " -4.74800428e+00 -1.00568258e+01 -4.75968882e+00 -3.76139613e+00\n",
      " -1.80805640e+00  3.01972086e+00  1.91672658e+00 -5.99414944e-01\n",
      " -3.36549555e+00 -3.60716100e+00  8.00872760e-01 -1.28709186e+00\n",
      " -7.28034837e+00 -1.99184943e+00  1.67430068e+00 -2.05321555e+01\n",
      " -9.46805945e-01 -3.38466534e+00 -1.35302505e+00 -9.75929709e-01\n",
      " -5.04891049e+00 -3.03764852e+00 -2.11382708e+00 -2.08805011e+00\n",
      "  1.76578421e+00  1.01793401e+00  2.83439466e+00 -5.79244289e-02\n",
      "  5.09416889e+00  3.54381937e+00  3.38243313e+00 -8.71493772e-01\n",
      "  7.06053704e-01 -1.55524498e+00 -6.48213799e+00 -3.14402171e+00\n",
      "  1.13760123e-01  2.13155223e+00 -4.41257996e+00 -1.42403967e+00\n",
      " -1.31780254e+00 -1.03396067e+00 -5.51203520e+00 -5.07658159e-01\n",
      "  1.00666407e+00  1.01033117e+00 -2.59962704e+00 -1.16928251e+00\n",
      " -2.64258506e+00  1.97876821e-01 -2.10793794e+00 -6.21100431e+00\n",
      " -8.36026350e-01  2.39130545e-01 -4.33170054e+00 -6.08635972e-01\n",
      " -3.24320908e-01  1.87166569e+00 -7.56184944e+00 -1.16452132e+00\n",
      "  2.35202146e+01 -8.07761753e-02  1.07170382e+00 -3.10629007e+00\n",
      " -2.03723693e-01 -7.47160653e-01  3.87108792e+00 -4.97574903e+00\n",
      "  5.21197457e-01  7.89768254e-01  2.19312393e+00 -2.96710853e-01\n",
      " -2.01785950e-01 -4.76197218e+00  5.10443006e+00  3.57127067e+00\n",
      " -4.51162824e+00 -4.72334119e-01  2.74834636e+00 -4.06101845e+00\n",
      " -2.66066548e+00 -3.17013156e+00  6.39781432e+00 -2.28741183e+00\n",
      " -1.10479300e+00  8.68222690e-01 -3.76188087e+00 -1.97595285e+00\n",
      " -1.99856522e+00 -1.00969407e+00  1.84192036e+00 -1.61167773e+00\n",
      "  1.62391696e-02  1.07424193e+00  9.26477704e-01  1.04521286e+00\n",
      "  4.31034473e+00 -9.10700825e+00 -1.10993029e+00 -2.06655791e+00\n",
      " -8.34260437e-01  1.66254893e+00 -3.35250905e+00  3.18563329e+00\n",
      "  1.43364168e+00 -8.58244125e-01  1.77545577e-01  2.44900405e+00\n",
      " -1.81582487e+00 -4.70259280e+00  1.08835104e-01  7.96999232e+00\n",
      " -9.13428064e+00  2.10768508e-01  7.52630260e-01 -1.80784436e-01\n",
      " -6.80842139e+00 -4.31830003e+00 -7.61201639e-01 -1.17118466e+00\n",
      " -4.25115120e+00 -1.38051408e+01 -1.42313878e+01 -2.82871709e+00\n",
      " -5.80484680e+00 -1.64028752e+00 -1.18687990e+00 -3.27639914e-01\n",
      " -2.67033959e+00 -2.88907717e+00  1.65107981e+00  1.02886665e+00\n",
      " -4.32018553e+00  1.98542328e+00 -6.86734740e+00 -4.00574036e-01\n",
      "  2.75759151e+00  9.40580034e-01 -3.08288269e+00 -5.67708006e+00\n",
      "  6.68221416e-01  1.18486602e+00  7.58787821e-01 -3.79081285e+00\n",
      " -6.78819275e-01  4.83433267e-01 -3.23751353e+00 -2.51717281e+00\n",
      " -3.27220148e+00 -5.04190980e+00 -1.24774982e+01 -7.63806275e-01\n",
      "  3.07001277e-01  4.45692441e+00  1.38641457e+00 -3.33511013e+00\n",
      "  3.44249101e+00  8.85640293e-01  1.82839349e+00  6.72428783e-01\n",
      " -5.82908244e-01 -2.12164833e+00 -4.71740017e+00 -2.94981783e+00\n",
      " -1.27301117e+00 -6.02216042e+00 -2.12200384e+00 -2.57139420e+00\n",
      " -4.96066248e+00 -1.36313540e+00 -1.86017266e-01  2.56225423e+00\n",
      "  1.02986381e+00 -4.21139002e+00 -8.19198801e+00 -1.37438166e+00\n",
      " -6.39427879e-01 -1.36908466e-01 -2.66021118e+00 -1.18647283e-01\n",
      "  2.12908552e+00 -1.80318448e+00 -3.35980647e+00 -9.91397410e+00\n",
      " -1.36697473e+00  3.85696035e-01 -6.03471226e+00 -3.63058827e+00\n",
      " -8.77391367e+00 -1.33551224e+00 -7.04974733e+00 -1.45366197e+00\n",
      " -4.13723993e+00 -1.80002204e+01 -1.40743059e+01 -6.43748878e+00\n",
      "  7.16677953e-01 -5.36132661e+00 -1.18845499e+01 -2.16207816e-01\n",
      " -3.62525345e+00  1.58307932e+00  1.13173774e+00 -5.99442253e+00\n",
      " -2.99876365e+00  1.34460526e+00 -1.34166584e+01 -4.85460459e+00\n",
      "  1.53198714e+00 -9.91487132e-01 -2.26329730e-01  1.07431040e+00\n",
      "  1.94826391e-01 -4.29204042e-01  6.89911379e-01 -2.92997611e+00\n",
      " -1.52268084e+00 -4.08231831e-01 -1.63869582e+01 -5.78442307e+00\n",
      "  3.67788379e-01 -7.16731172e-01 -6.98586784e-01 -2.03465537e+00\n",
      " -2.82232024e+00 -2.91237687e-01  2.61618593e+00 -2.00003209e+00\n",
      " -2.20538423e-01  3.93856156e+00  1.69590812e+00  1.51592440e+00\n",
      " -8.75766051e+00 -5.21057224e-01 -1.73500142e+00 -1.99816915e+01\n",
      " -2.99974583e+00  1.16175130e+00 -1.95861858e-01 -2.20870854e+00\n",
      " -4.52040569e-01  1.25037040e+00 -2.00973626e+00 -1.84567540e+00\n",
      "  4.06643224e-01 -1.10912825e+00  7.02925749e+00  1.37904083e+00\n",
      "  2.01672278e+00 -5.02917793e-01  3.45584070e-01 -9.12736884e-01\n",
      " -5.99489715e+00 -2.35291880e+00 -2.05952088e+00 -2.28900033e-01\n",
      " -4.52446975e+00  6.14739364e-01 -2.15674886e+00  3.40762976e-01\n",
      "  7.59513223e-01  5.23564910e-01 -1.53145171e+00  2.08363435e+00\n",
      "  3.15035189e+00  5.41130306e+00  4.09273181e+00  4.34287970e+01\n",
      "  5.63655848e+00  5.21816482e+01  5.89467006e-01 -4.64729859e+00\n",
      " -9.77231110e-02 -1.99634393e+01 -4.74906994e-01  6.98232303e+00\n",
      " -1.72126213e+00  1.77778698e+01 -7.48321338e-01  1.52319460e+00\n",
      "  4.01367852e+00  1.89814846e+01 -8.88522136e+00 -8.25422380e+00\n",
      "  2.27779017e+00  5.20123586e+00  1.62247027e+01  4.02690797e+00\n",
      " -1.75190449e+01  2.21303128e+01  3.42961278e+01  3.86515228e+01\n",
      "  9.88895721e+00  5.09227824e+01  1.02065976e+01  1.95152219e+00\n",
      "  4.56425949e-01  6.65484087e+00  1.37441829e+01  5.35409965e+00\n",
      " -7.77604724e+00 -3.48352816e+00 -1.23643620e+01  9.90725978e+00\n",
      "  3.94253120e+00  3.99176139e+01 -5.30683943e+00  9.99243782e+00\n",
      " -1.35864626e+01  3.74002714e+01  4.97655737e+00  7.06439895e+00\n",
      "  5.49798657e+00 -2.42357124e+00 -3.37408351e-01  3.30367286e+00\n",
      "  4.85668807e-01  1.18869343e+01  1.53917732e+01  2.55252747e+00\n",
      "  2.49280139e+01  1.50759431e+00 -4.66315263e+00]\n"
     ]
    }
   ],
   "source": [
    "# Reg4: dependent variables = Major prospects, independent variables = participated, year, First time Attendees, Average Age, Group Code, Location Code, Activity Code\n",
    "# regression model\n",
    "y = data[\"Major Prospects\"]\n",
    "xm3=pd.concat((data[\"Participated\"],data[\"year\"],data[\"First Time Attendees\"],data[\"Average Age\"],df2,df3,df4),axis=1)\n",
    "res = LinearRegression().fit(xm3,y)\n",
    "# adjusted R squared value\n",
    "num_params = len(res.coef_) + 1\n",
    "adjusted_rm4 = 1 - (1-res.score(xm3,y))*(len(y)-1)/(len(y)-num_params-1)\n",
    "# prediction\n",
    "yhat = res.predict(xm3)\n",
    "# MSE\n",
    "mse_4 = mean_squared_error(y, yhat)\n",
    "print(\"MSE: %.3f\" % mse_4)\n",
    "print(res.score(xm3,y,sample_weight=None))\n",
    "print(adjusted_rm4)\n",
    "print(res.intercept_, res.coef_)"
   ]
  },
  {
   "cell_type": "code",
   "execution_count": 25,
   "id": "32910439",
   "metadata": {},
   "outputs": [
    {
     "name": "stdout",
     "output_type": "stream",
     "text": [
      "MSE: 88.220\n",
      "0.5570197053644719\n",
      "0.5541478720118915\n",
      "3385.119084817902 [ 0.09504493 -1.6855595   0.39664706]\n"
     ]
    }
   ],
   "source": [
    "# Reg5: dependent variables = Major prospects, independent variables = participated, year, Average Age\n",
    "# regression model\n",
    "y = data[\"Major Prospects\"]\n",
    "xm4=pd.concat((data[\"Participated\"],data[\"year\"],data[\"Average Age\"]),axis=1)  \n",
    "res = LinearRegression().fit(xm4,y)\n",
    "# adjusted R squared value\n",
    "num_params = len(res.coef_) + 1\n",
    "adjusted_rm5 = 1 - (1-res.score(xm4,y))*(len(y)-1)/(len(y)-num_params-1)\n",
    "# prediction\n",
    "yhat = res.predict(xm4)\n",
    "# MSE\n",
    "mse_5 = mean_squared_error(y, yhat)\n",
    "print(\"MSE: %.3f\" % mse_5)\n",
    "print(res.score(xm4,y,sample_weight=None))\n",
    "print(adjusted_rm5)\n",
    "print(res.intercept_, res.coef_)"
   ]
  },
  {
   "cell_type": "code",
   "execution_count": 26,
   "id": "59986bc6",
   "metadata": {},
   "outputs": [
    {
     "name": "stdout",
     "output_type": "stream",
     "text": [
      "MSE: 88.843\n",
      "0.5538929968053217\n",
      "0.5510008930568959\n",
      "-13.654063644882251 [ 0.1446209  -0.12519522  0.3695514 ]\n"
     ]
    }
   ],
   "source": [
    "# Reg6: dependent variables = Major prospects, independent variables = Participated, First time Attendees, Average Age\n",
    "# regression model\n",
    "y = data[\"Major Prospects\"]\n",
    "xm5=pd.concat((data[\"Participated\"],data[\"First Time Attendees\"],data[\"Average Age\"]),axis=1)  \n",
    "res = LinearRegression().fit(xm5,y)\n",
    "# adjusted R squared value\n",
    "num_params = len(res.coef_) + 1\n",
    "adjusted_rm6 = 1 - (1-res.score(xm5,y))*(len(y)-1)/(len(y)-num_params-1)\n",
    "# prediction\n",
    "yhat = res.predict(xm5)\n",
    "# MSE\n",
    "mse_6 = mean_squared_error(y, yhat)\n",
    "print(\"MSE: %.3f\" % mse_6)\n",
    "print(res.score(xm5,y,sample_weight=None))\n",
    "print(adjusted_rm6)\n",
    "print(res.intercept_, res.coef_)"
   ]
  },
  {
   "cell_type": "code",
   "execution_count": 27,
   "id": "39a0577a",
   "metadata": {},
   "outputs": [
    {
     "name": "stdout",
     "output_type": "stream",
     "text": [
      "MSE: 89.761\n",
      "0.5492841681583205\n",
      "0.5463621854559433\n",
      "4026.8062626190454 [ 0.15595783 -0.16256351 -1.99611934]\n"
     ]
    }
   ],
   "source": [
    "# Reg7: dependent variables = Major prospects, independent variables = participated, First time Attendees, year\n",
    "# regression model\n",
    "y = data[\"Major Prospects\"]\n",
    "xm6=pd.concat((data[\"Participated\"],data[\"First Time Attendees\"],data[\"year\"]),axis=1)  \n",
    "res = LinearRegression().fit(xm6,y)\n",
    "# adjusted R squared value\n",
    "num_params = len(res.coef_) + 1\n",
    "adjusted_rm7 = 1 - (1-res.score(xm6,y))*(len(y)-1)/(len(y)-num_params-1)\n",
    "# prediction\n",
    "yhat = res.predict(xm6)\n",
    "# MSE\n",
    "mse_7 = mean_squared_error(y, yhat)\n",
    "print(\"MSE: %.3f\" % mse_7)\n",
    "print(res.score(xm6,y,sample_weight=None))\n",
    "print(adjusted_rm7)\n",
    "print(res.intercept_, res.coef_)"
   ]
  },
  {
   "cell_type": "code",
   "execution_count": 28,
   "id": "c2900f91",
   "metadata": {},
   "outputs": [
    {
     "data": {
      "text/plain": [
       "Text(0, 0.5, 'Adjusted R2 Score')"
      ]
     },
     "execution_count": 28,
     "metadata": {},
     "output_type": "execute_result"
    },
    {
     "data": {
      "image/png": "[encoded data removed]",
      "text/plain": [
       "<Figure size 432x288 with 1 Axes>"
      ]
     },
     "metadata": {
      "needs_background": "light"
     },
     "output_type": "display_data"
    }
   ],
   "source": [
    "# Comparsion plot of adjusted R squared values with 7 models\n",
    "x3_values = [\"Model 1\",\"Model 2\",\"Model 3\",\"Model 4\",\"Model 5\",\"Model 6\",\"Model 7\"]\n",
    "y3_values = [adjusted_rm,adjusted_rm2,adjusted_rm3,adjusted_rm4,adjusted_rm5,adjusted_rm6,adjusted_rm7]\n",
    "plt.plot(x3_values,y3_values,'kv-')\n",
    "plt.xlabel(\"Model Name\")\n",
    "plt.ylabel(\"Adjusted R2 Score\")"
   ]
  },
  {
   "cell_type": "code",
   "execution_count": 29,
   "id": "3800c2f0",
   "metadata": {},
   "outputs": [
    {
     "data": {
      "text/plain": [
       "Text(0, 0.5, 'Mean Squared Error')"
      ]
     },
     "execution_count": 29,
     "metadata": {},
     "output_type": "execute_result"
    },
    {
     "data": {
      "image/png": "[encoded data removed]",
      "text/plain": [
       "<Figure size 432x288 with 1 Axes>"
      ]
     },
     "metadata": {
      "needs_background": "light"
     },
     "output_type": "display_data"
    }
   ],
   "source": [
    "# Comparsion plot of adjusted R squared values with 7 models\n",
    "x4_values = [\"Model 1\",\"Model 2\",\"Model 3\",\"Model 4\",\"Model 5\",\"Model 6\",\"Model 7\"]\n",
    "y4_values = [mse_1, mse_2, mse_3, mse_4, mse_5, mse_6, mse_7]\n",
    "plt.plot(x4_values,y4_values,'kv-')\n",
    "plt.xlabel(\"Model Name\")\n",
    "plt.ylabel(\"Mean Squared Error\")"
   ]
  },
  {
   "cell_type": "markdown",
   "id": "850b141e",
   "metadata": {
    "id": "850b141e"
   },
   "source": [
    "## Attraction of Group: First Time Attendees"
   ]
  },
  {
   "cell_type": "code",
   "execution_count": 30,
   "id": "be668c0c",
   "metadata": {},
   "outputs": [
    {
     "data": {
      "text/html": [
       "<div>\n",
       "<style scoped>\n",
       "    .dataframe tbody tr th:only-of-type {\n",
       "        vertical-align: middle;\n",
       "    }\n",
       "\n",
       "    .dataframe tbody tr th {\n",
       "        vertical-align: top;\n",
       "    }\n",
       "\n",
       "    .dataframe thead th {\n",
       "        text-align: right;\n",
       "    }\n",
       "</style>\n",
       "<table border=\"1\" class=\"dataframe\">\n",
       "  <thead>\n",
       "    <tr style=\"text-align: right;\">\n",
       "      <th></th>\n",
       "      <th>First Time Attendees</th>\n",
       "    </tr>\n",
       "    <tr>\n",
       "      <th>Group Code</th>\n",
       "      <th></th>\n",
       "    </tr>\n",
       "  </thead>\n",
       "  <tbody>\n",
       "    <tr>\n",
       "      <th>PSS</th>\n",
       "      <td>106.142857</td>\n",
       "    </tr>\n",
       "    <tr>\n",
       "      <th>PM9</th>\n",
       "      <td>37.333333</td>\n",
       "    </tr>\n",
       "    <tr>\n",
       "      <th>PI9</th>\n",
       "      <td>29.200000</td>\n",
       "    </tr>\n",
       "    <tr>\n",
       "      <th>PVW</th>\n",
       "      <td>27.000000</td>\n",
       "    </tr>\n",
       "    <tr>\n",
       "      <th>PAB</th>\n",
       "      <td>27.000000</td>\n",
       "    </tr>\n",
       "  </tbody>\n",
       "</table>\n",
       "</div>"
      ],
      "text/plain": [
       "            First Time Attendees\n",
       "Group Code                      \n",
       "PSS                   106.142857\n",
       "PM9                    37.333333\n",
       "PI9                    29.200000\n",
       "PVW                    27.000000\n",
       "PAB                    27.000000"
      ]
     },
     "execution_count": 30,
     "metadata": {},
     "output_type": "execute_result"
    }
   ],
   "source": [
    "# Get the order of average of First Time Attendees grouped by each Group Code\n",
    "avgft = data[[\"Group Code\",\"First Time Attendees\"]].groupby([\"Group Code\"]).mean().sort_values(by=\"First Time Attendees\",ascending=False)\n",
    "avgft.head(5)"
   ]
  },
  {
   "cell_type": "code",
   "execution_count": 31,
   "id": "fefae3fd",
   "metadata": {},
   "outputs": [
    {
     "data": {
      "text/html": [
       "<div>\n",
       "<style scoped>\n",
       "    .dataframe tbody tr th:only-of-type {\n",
       "        vertical-align: middle;\n",
       "    }\n",
       "\n",
       "    .dataframe tbody tr th {\n",
       "        vertical-align: top;\n",
       "    }\n",
       "\n",
       "    .dataframe thead th {\n",
       "        text-align: right;\n",
       "    }\n",
       "</style>\n",
       "<table border=\"1\" class=\"dataframe\">\n",
       "  <thead>\n",
       "    <tr style=\"text-align: right;\">\n",
       "      <th></th>\n",
       "      <th>Group Code</th>\n",
       "      <th>Group Description</th>\n",
       "    </tr>\n",
       "  </thead>\n",
       "  <tbody>\n",
       "    <tr>\n",
       "      <th>11</th>\n",
       "      <td>PSS</td>\n",
       "      <td>CP Social- Students</td>\n",
       "    </tr>\n",
       "    <tr>\n",
       "      <th>89</th>\n",
       "      <td>PSS</td>\n",
       "      <td>CP Social- Students</td>\n",
       "    </tr>\n",
       "    <tr>\n",
       "      <th>66</th>\n",
       "      <td>PSS</td>\n",
       "      <td>CP Social- Students</td>\n",
       "    </tr>\n",
       "    <tr>\n",
       "      <th>67</th>\n",
       "      <td>PSS</td>\n",
       "      <td>CP Social- Students</td>\n",
       "    </tr>\n",
       "    <tr>\n",
       "      <th>27</th>\n",
       "      <td>PSS</td>\n",
       "      <td>CP Social- Students</td>\n",
       "    </tr>\n",
       "    <tr>\n",
       "      <th>28</th>\n",
       "      <td>PSS</td>\n",
       "      <td>CP Social- Students</td>\n",
       "    </tr>\n",
       "    <tr>\n",
       "      <th>18</th>\n",
       "      <td>PSS</td>\n",
       "      <td>CP Social- Students</td>\n",
       "    </tr>\n",
       "    <tr>\n",
       "      <th>81</th>\n",
       "      <td>PSS</td>\n",
       "      <td>CP Social- Students</td>\n",
       "    </tr>\n",
       "    <tr>\n",
       "      <th>82</th>\n",
       "      <td>PSS</td>\n",
       "      <td>CP Social- Students</td>\n",
       "    </tr>\n",
       "    <tr>\n",
       "      <th>84</th>\n",
       "      <td>PSS</td>\n",
       "      <td>CP Social- Students</td>\n",
       "    </tr>\n",
       "    <tr>\n",
       "      <th>86</th>\n",
       "      <td>PSS</td>\n",
       "      <td>CP Social- Students</td>\n",
       "    </tr>\n",
       "    <tr>\n",
       "      <th>87</th>\n",
       "      <td>PSS</td>\n",
       "      <td>CP Social- Students</td>\n",
       "    </tr>\n",
       "    <tr>\n",
       "      <th>190</th>\n",
       "      <td>PSS</td>\n",
       "      <td>CP Social-Students</td>\n",
       "    </tr>\n",
       "    <tr>\n",
       "      <th>191</th>\n",
       "      <td>PSS</td>\n",
       "      <td>CP Social-Students</td>\n",
       "    </tr>\n",
       "  </tbody>\n",
       "</table>\n",
       "</div>"
      ],
      "text/plain": [
       "    Group Code     Group Description\n",
       "11         PSS  CP Social- Students \n",
       "89         PSS  CP Social- Students \n",
       "66         PSS   CP Social- Students\n",
       "67         PSS   CP Social- Students\n",
       "27         PSS   CP Social- Students\n",
       "28         PSS  CP Social- Students \n",
       "18         PSS  CP Social- Students \n",
       "81         PSS  CP Social- Students \n",
       "82         PSS  CP Social- Students \n",
       "84         PSS  CP Social- Students \n",
       "86         PSS  CP Social- Students \n",
       "87         PSS  CP Social- Students \n",
       "190        PSS    CP Social-Students\n",
       "191        PSS    CP Social-Students"
      ]
     },
     "execution_count": 31,
     "metadata": {},
     "output_type": "execute_result"
    }
   ],
   "source": [
    "# Find the Group Description of the top 1 Group Code\n",
    "data.loc[data[\"Group Code\"]==\"PSS\"][[\"Group Code\", \"Group Description\"]]"
   ]
  },
  {
   "cell_type": "markdown",
   "id": "b08d20a9",
   "metadata": {},
   "source": [
    "## Attraction of Location: First Time Attendees"
   ]
  },
  {
   "cell_type": "code",
   "execution_count": 32,
   "id": "efdac600",
   "metadata": {},
   "outputs": [
    {
     "data": {
      "text/html": [
       "<div>\n",
       "<style scoped>\n",
       "    .dataframe tbody tr th:only-of-type {\n",
       "        vertical-align: middle;\n",
       "    }\n",
       "\n",
       "    .dataframe tbody tr th {\n",
       "        vertical-align: top;\n",
       "    }\n",
       "\n",
       "    .dataframe thead th {\n",
       "        text-align: right;\n",
       "    }\n",
       "</style>\n",
       "<table border=\"1\" class=\"dataframe\">\n",
       "  <thead>\n",
       "    <tr style=\"text-align: right;\">\n",
       "      <th></th>\n",
       "      <th>First Time Attendees</th>\n",
       "    </tr>\n",
       "    <tr>\n",
       "      <th>Location Code</th>\n",
       "      <th></th>\n",
       "    </tr>\n",
       "  </thead>\n",
       "  <tbody>\n",
       "    <tr>\n",
       "      <th>PSAU</th>\n",
       "      <td>70.000000</td>\n",
       "    </tr>\n",
       "    <tr>\n",
       "      <th>PDON</th>\n",
       "      <td>31.525862</td>\n",
       "    </tr>\n",
       "    <tr>\n",
       "      <th>PNNA</th>\n",
       "      <td>26.250000</td>\n",
       "    </tr>\n",
       "    <tr>\n",
       "      <th>POWE</th>\n",
       "      <td>24.756098</td>\n",
       "    </tr>\n",
       "    <tr>\n",
       "      <th>POBR</th>\n",
       "      <td>18.000000</td>\n",
       "    </tr>\n",
       "  </tbody>\n",
       "</table>\n",
       "</div>"
      ],
      "text/plain": [
       "               First Time Attendees\n",
       "Location Code                      \n",
       "PSAU                      70.000000\n",
       "PDON                      31.525862\n",
       "PNNA                      26.250000\n",
       "POWE                      24.756098\n",
       "POBR                      18.000000"
      ]
     },
     "execution_count": 32,
     "metadata": {},
     "output_type": "execute_result"
    }
   ],
   "source": [
    "# Get the order of average of First Time Attendees grouped by each Location Code\n",
    "avgft = data[[\"Location Code\",\"First Time Attendees\"]].groupby([\"Location Code\"]).mean().sort_values(by=\"First Time Attendees\",ascending=False)\n",
    "avgft.head(5)"
   ]
  },
  {
   "cell_type": "code",
   "execution_count": 33,
   "id": "28cf77e8",
   "metadata": {},
   "outputs": [
    {
     "data": {
      "text/html": [
       "<div>\n",
       "<style scoped>\n",
       "    .dataframe tbody tr th:only-of-type {\n",
       "        vertical-align: middle;\n",
       "    }\n",
       "\n",
       "    .dataframe tbody tr th {\n",
       "        vertical-align: top;\n",
       "    }\n",
       "\n",
       "    .dataframe thead th {\n",
       "        text-align: right;\n",
       "    }\n",
       "</style>\n",
       "<table border=\"1\" class=\"dataframe\">\n",
       "  <thead>\n",
       "    <tr style=\"text-align: right;\">\n",
       "      <th></th>\n",
       "      <th>Location Code</th>\n",
       "      <th>Location Description</th>\n",
       "    </tr>\n",
       "  </thead>\n",
       "  <tbody>\n",
       "    <tr>\n",
       "      <th>3</th>\n",
       "      <td>PSAU</td>\n",
       "      <td>CP Southeast- Austin</td>\n",
       "    </tr>\n",
       "    <tr>\n",
       "      <th>52</th>\n",
       "      <td>PSAU</td>\n",
       "      <td>CP Southeast- Austin</td>\n",
       "    </tr>\n",
       "  </tbody>\n",
       "</table>\n",
       "</div>"
      ],
      "text/plain": [
       "   Location Code  Location Description\n",
       "3           PSAU  CP Southeast- Austin\n",
       "52          PSAU  CP Southeast- Austin"
      ]
     },
     "execution_count": 33,
     "metadata": {},
     "output_type": "execute_result"
    }
   ],
   "source": [
    "# Find the Location Description of the top 1 Location Code\n",
    "data.loc[data[\"Location Code\"]==\"PSAU\"][[\"Location Code\", \"Location Description\"]]"
   ]
  },
  {
   "cell_type": "markdown",
   "id": "87e11b14",
   "metadata": {},
   "source": [
    "## Attraction of Events: First Time Attendees"
   ]
  },
  {
   "cell_type": "code",
   "execution_count": 34,
   "id": "0c0632bd",
   "metadata": {},
   "outputs": [
    {
     "data": {
      "text/html": [
       "<div>\n",
       "<style scoped>\n",
       "    .dataframe tbody tr th:only-of-type {\n",
       "        vertical-align: middle;\n",
       "    }\n",
       "\n",
       "    .dataframe tbody tr th {\n",
       "        vertical-align: top;\n",
       "    }\n",
       "\n",
       "    .dataframe thead th {\n",
       "        text-align: right;\n",
       "    }\n",
       "</style>\n",
       "<table border=\"1\" class=\"dataframe\">\n",
       "  <thead>\n",
       "    <tr style=\"text-align: right;\">\n",
       "      <th></th>\n",
       "      <th>First Time Attendees</th>\n",
       "    </tr>\n",
       "    <tr>\n",
       "      <th>Activity Code</th>\n",
       "      <th></th>\n",
       "    </tr>\n",
       "  </thead>\n",
       "  <tbody>\n",
       "    <tr>\n",
       "      <th>PEAVB</th>\n",
       "      <td>702.00</td>\n",
       "    </tr>\n",
       "    <tr>\n",
       "      <th>PEZGB</th>\n",
       "      <td>221.25</td>\n",
       "    </tr>\n",
       "    <tr>\n",
       "      <th>PEZHA</th>\n",
       "      <td>139.00</td>\n",
       "    </tr>\n",
       "    <tr>\n",
       "      <th>PESFF</th>\n",
       "      <td>138.00</td>\n",
       "    </tr>\n",
       "    <tr>\n",
       "      <th>PESTH</th>\n",
       "      <td>121.00</td>\n",
       "    </tr>\n",
       "    <tr>\n",
       "      <th>...</th>\n",
       "      <td>...</td>\n",
       "    </tr>\n",
       "    <tr>\n",
       "      <th>PEAS7</th>\n",
       "      <td>0.00</td>\n",
       "    </tr>\n",
       "    <tr>\n",
       "      <th>PEAS2</th>\n",
       "      <td>0.00</td>\n",
       "    </tr>\n",
       "    <tr>\n",
       "      <th>PEZLA</th>\n",
       "      <td>0.00</td>\n",
       "    </tr>\n",
       "    <tr>\n",
       "      <th>PEAH2</th>\n",
       "      <td>0.00</td>\n",
       "    </tr>\n",
       "    <tr>\n",
       "      <th>PEATQ</th>\n",
       "      <td>0.00</td>\n",
       "    </tr>\n",
       "  </tbody>\n",
       "</table>\n",
       "<p>341 rows × 1 columns</p>\n",
       "</div>"
      ],
      "text/plain": [
       "               First Time Attendees\n",
       "Activity Code                      \n",
       "PEAVB                        702.00\n",
       "PEZGB                        221.25\n",
       "PEZHA                        139.00\n",
       "PESFF                        138.00\n",
       "PESTH                        121.00\n",
       "...                             ...\n",
       "PEAS7                          0.00\n",
       "PEAS2                          0.00\n",
       "PEZLA                          0.00\n",
       "PEAH2                          0.00\n",
       "PEATQ                          0.00\n",
       "\n",
       "[341 rows x 1 columns]"
      ]
     },
     "execution_count": 34,
     "metadata": {},
     "output_type": "execute_result"
    }
   ],
   "source": [
    "# Get the order of average of First Time Attendees grouped by each Activity Code\n",
    "avgft = data[[\"Activity Code\",\"First Time Attendees\"]].groupby([\"Activity Code\"]).mean().sort_values(by=\"First Time Attendees\",ascending=False)\n",
    "avgft"
   ]
  },
  {
   "cell_type": "code",
   "execution_count": 35,
   "id": "c8930682",
   "metadata": {},
   "outputs": [
    {
     "name": "stdout",
     "output_type": "stream",
     "text": [
      "  Activity Code     Activity Description\n",
      "0         PEAVB  CP AA-Virtual Book Club\n",
      "    Activity Code Activity Description\n",
      "1           PEZAG   CP AAE-Awards Gala\n",
      "3           PEZAG   CP AAE-Awards Gala\n",
      "193         PEZAG   CP AAE-Awards Gala\n",
      "   Activity Code          Activity Description\n",
      "90         PEZHF  CP AAE-Hall of Fame Ceremony\n",
      "   Activity Code                Activity Description\n",
      "26         PEZJV  CP AAE-Jimmy V Classic Bball Event\n",
      "   Activity Code        Activity Description\n",
      "14         PEZHC  CP AAE-Homecoming Tailgate\n",
      "18         PEZHC  CP AAE-Homecoming Tailgate\n",
      "4          PEZHC  CP AAE-Homecoming Tailgate\n",
      "10         PEZHC  CP AAE-Homecoming Tailgate\n"
     ]
    }
   ],
   "source": [
    "# Find the Activity Description of the top 5 Activity Code\n",
    "print(data.loc[data[\"Activity Code\"]==\"PEAVB\"][[\"Activity Code\", \"Activity Description\"]])\n",
    "print(data.loc[data[\"Activity Code\"]==\"PEZAG\"][[\"Activity Code\", \"Activity Description\"]])\n",
    "print(data.loc[data[\"Activity Code\"]==\"PEZHF\"][[\"Activity Code\", \"Activity Description\"]])\n",
    "print(data.loc[data[\"Activity Code\"]==\"PEZJV\"][[\"Activity Code\", \"Activity Description\"]])\n",
    "print(data.loc[data[\"Activity Code\"]==\"PEZHC\"][[\"Activity Code\", \"Activity Description\"]])"
   ]
  },
  {
   "cell_type": "code",
   "execution_count": 36,
   "id": "7fb65c58",
   "metadata": {},
   "outputs": [
    {
     "data": {
      "text/html": [
       "<div>\n",
       "<style scoped>\n",
       "    .dataframe tbody tr th:only-of-type {\n",
       "        vertical-align: middle;\n",
       "    }\n",
       "\n",
       "    .dataframe tbody tr th {\n",
       "        vertical-align: top;\n",
       "    }\n",
       "\n",
       "    .dataframe thead th {\n",
       "        text-align: right;\n",
       "    }\n",
       "</style>\n",
       "<table border=\"1\" class=\"dataframe\">\n",
       "  <thead>\n",
       "    <tr style=\"text-align: right;\">\n",
       "      <th></th>\n",
       "      <th>Avg_Pct_1st_Attendees</th>\n",
       "    </tr>\n",
       "    <tr>\n",
       "      <th>Activity Code</th>\n",
       "      <th></th>\n",
       "    </tr>\n",
       "  </thead>\n",
       "  <tbody>\n",
       "    <tr>\n",
       "      <th>PEAEH</th>\n",
       "      <td>1.000000</td>\n",
       "    </tr>\n",
       "    <tr>\n",
       "      <th>PEARO</th>\n",
       "      <td>1.000000</td>\n",
       "    </tr>\n",
       "    <tr>\n",
       "      <th>PEAYB</th>\n",
       "      <td>0.888889</td>\n",
       "    </tr>\n",
       "    <tr>\n",
       "      <th>PEAHS</th>\n",
       "      <td>0.875000</td>\n",
       "    </tr>\n",
       "    <tr>\n",
       "      <th>PEASK</th>\n",
       "      <td>0.864198</td>\n",
       "    </tr>\n",
       "    <tr>\n",
       "      <th>...</th>\n",
       "      <td>...</td>\n",
       "    </tr>\n",
       "    <tr>\n",
       "      <th>PEAAE</th>\n",
       "      <td>0.000000</td>\n",
       "    </tr>\n",
       "    <tr>\n",
       "      <th>PEAUD</th>\n",
       "      <td>0.000000</td>\n",
       "    </tr>\n",
       "    <tr>\n",
       "      <th>PEAAA</th>\n",
       "      <td>0.000000</td>\n",
       "    </tr>\n",
       "    <tr>\n",
       "      <th>PEAH2</th>\n",
       "      <td>0.000000</td>\n",
       "    </tr>\n",
       "    <tr>\n",
       "      <th>PEADD</th>\n",
       "      <td>0.000000</td>\n",
       "    </tr>\n",
       "  </tbody>\n",
       "</table>\n",
       "<p>341 rows × 1 columns</p>\n",
       "</div>"
      ],
      "text/plain": [
       "               Avg_Pct_1st_Attendees\n",
       "Activity Code                       \n",
       "PEAEH                       1.000000\n",
       "PEARO                       1.000000\n",
       "PEAYB                       0.888889\n",
       "PEAHS                       0.875000\n",
       "PEASK                       0.864198\n",
       "...                              ...\n",
       "PEAAE                       0.000000\n",
       "PEAUD                       0.000000\n",
       "PEAAA                       0.000000\n",
       "PEAH2                       0.000000\n",
       "PEADD                       0.000000\n",
       "\n",
       "[341 rows x 1 columns]"
      ]
     },
     "execution_count": 36,
     "metadata": {},
     "output_type": "execute_result"
    }
   ],
   "source": [
    "# Get the order of average of percentage of First Time Attendees grouped by each Activity Code\n",
    "avgpft = data[[\"Activity Code\",\"Percentage First Time Attendees\"]].groupby([\"Activity Code\"]).agg(Avg_Pct_1st_Attendees =(\"Percentage First Time Attendees\",\"mean\")).sort_values(by=\"Avg_Pct_1st_Attendees\",ascending=False)\n",
    "avgpft"
   ]
  },
  {
   "cell_type": "code",
   "execution_count": 37,
   "id": "d1b08e58",
   "metadata": {},
   "outputs": [
    {
     "name": "stdout",
     "output_type": "stream",
     "text": [
      "PEAVB 91\n"
     ]
    }
   ],
   "source": [
    "# Find the position of the average of percentage of First Time Attendees for the Activity Code with highest First Time Attendees\n",
    "avgpft_position = 0\n",
    "for i in range(len(avgpft)):\n",
    "    avgpft_position += 1\n",
    "    if avgpft.index.tolist()[i] == avgft.index.tolist()[0]:\n",
    "        print(avgpft.index.tolist()[i], avgpft_position)"
   ]
  },
  {
   "cell_type": "markdown",
   "id": "180640ea",
   "metadata": {},
   "source": [
    "## Attraction of Group: Major Prospects"
   ]
  },
  {
   "cell_type": "code",
   "execution_count": 38,
   "id": "d73146eb",
   "metadata": {},
   "outputs": [
    {
     "data": {
      "text/html": [
       "<div>\n",
       "<style scoped>\n",
       "    .dataframe tbody tr th:only-of-type {\n",
       "        vertical-align: middle;\n",
       "    }\n",
       "\n",
       "    .dataframe tbody tr th {\n",
       "        vertical-align: top;\n",
       "    }\n",
       "\n",
       "    .dataframe thead th {\n",
       "        text-align: right;\n",
       "    }\n",
       "</style>\n",
       "<table border=\"1\" class=\"dataframe\">\n",
       "  <thead>\n",
       "    <tr style=\"text-align: right;\">\n",
       "      <th></th>\n",
       "      <th>Major Prospects</th>\n",
       "    </tr>\n",
       "    <tr>\n",
       "      <th>Group Code</th>\n",
       "      <th></th>\n",
       "    </tr>\n",
       "  </thead>\n",
       "  <tbody>\n",
       "    <tr>\n",
       "      <th>PH9</th>\n",
       "      <td>44.666667</td>\n",
       "    </tr>\n",
       "    <tr>\n",
       "      <th>PM9</th>\n",
       "      <td>28.333333</td>\n",
       "    </tr>\n",
       "    <tr>\n",
       "      <th>PHM</th>\n",
       "      <td>19.250000</td>\n",
       "    </tr>\n",
       "    <tr>\n",
       "      <th>PS3</th>\n",
       "      <td>18.000000</td>\n",
       "    </tr>\n",
       "    <tr>\n",
       "      <th>PMM</th>\n",
       "      <td>17.000000</td>\n",
       "    </tr>\n",
       "  </tbody>\n",
       "</table>\n",
       "</div>"
      ],
      "text/plain": [
       "            Major Prospects\n",
       "Group Code                 \n",
       "PH9               44.666667\n",
       "PM9               28.333333\n",
       "PHM               19.250000\n",
       "PS3               18.000000\n",
       "PMM               17.000000"
      ]
     },
     "execution_count": 38,
     "metadata": {},
     "output_type": "execute_result"
    }
   ],
   "source": [
    "# Get the order of average of Major Prospects grouped by each Group Code\n",
    "avgft = data[[\"Group Code\",\"Major Prospects\"]].groupby([\"Group Code\"]).mean().sort_values(by=\"Major Prospects\",ascending=False)\n",
    "avgft.head(5)"
   ]
  },
  {
   "cell_type": "code",
   "execution_count": 39,
   "id": "8e6152a9",
   "metadata": {},
   "outputs": [
    {
     "data": {
      "text/html": [
       "<div>\n",
       "<style scoped>\n",
       "    .dataframe tbody tr th:only-of-type {\n",
       "        vertical-align: middle;\n",
       "    }\n",
       "\n",
       "    .dataframe tbody tr th {\n",
       "        vertical-align: top;\n",
       "    }\n",
       "\n",
       "    .dataframe thead th {\n",
       "        text-align: right;\n",
       "    }\n",
       "</style>\n",
       "<table border=\"1\" class=\"dataframe\">\n",
       "  <thead>\n",
       "    <tr style=\"text-align: right;\">\n",
       "      <th></th>\n",
       "      <th>Group Code</th>\n",
       "      <th>Group Description</th>\n",
       "    </tr>\n",
       "  </thead>\n",
       "  <tbody>\n",
       "    <tr>\n",
       "      <th>1</th>\n",
       "      <td>PH9</td>\n",
       "      <td>CP Stewardship- General</td>\n",
       "    </tr>\n",
       "    <tr>\n",
       "      <th>90</th>\n",
       "      <td>PH9</td>\n",
       "      <td>CP Stewardship- General</td>\n",
       "    </tr>\n",
       "    <tr>\n",
       "      <th>3</th>\n",
       "      <td>PH9</td>\n",
       "      <td>CP Stewardship- General</td>\n",
       "    </tr>\n",
       "    <tr>\n",
       "      <th>31</th>\n",
       "      <td>PH9</td>\n",
       "      <td>CP Stewardship- General</td>\n",
       "    </tr>\n",
       "    <tr>\n",
       "      <th>22</th>\n",
       "      <td>PH9</td>\n",
       "      <td>CP Stewardship- General</td>\n",
       "    </tr>\n",
       "    <tr>\n",
       "      <th>25</th>\n",
       "      <td>PH9</td>\n",
       "      <td>CP Stewardship- General</td>\n",
       "    </tr>\n",
       "    <tr>\n",
       "      <th>95</th>\n",
       "      <td>PH9</td>\n",
       "      <td>CP Stewarship- General</td>\n",
       "    </tr>\n",
       "    <tr>\n",
       "      <th>193</th>\n",
       "      <td>PH9</td>\n",
       "      <td>CP Stewardship-General</td>\n",
       "    </tr>\n",
       "    <tr>\n",
       "      <th>200</th>\n",
       "      <td>PH9</td>\n",
       "      <td>CP Stewardship-General</td>\n",
       "    </tr>\n",
       "  </tbody>\n",
       "</table>\n",
       "</div>"
      ],
      "text/plain": [
       "    Group Code        Group Description\n",
       "1          PH9  CP Stewardship- General\n",
       "90         PH9  CP Stewardship- General\n",
       "3          PH9  CP Stewardship- General\n",
       "31         PH9  CP Stewardship- General\n",
       "22         PH9  CP Stewardship- General\n",
       "25         PH9  CP Stewardship- General\n",
       "95         PH9   CP Stewarship- General\n",
       "193        PH9   CP Stewardship-General\n",
       "200        PH9   CP Stewardship-General"
      ]
     },
     "execution_count": 39,
     "metadata": {},
     "output_type": "execute_result"
    }
   ],
   "source": [
    "# Find the Group Description of the top 1 Group Code\n",
    "data.loc[data[\"Group Code\"]==\"PH9\"][[\"Group Code\", \"Group Description\"]]"
   ]
  },
  {
   "cell_type": "markdown",
   "id": "e436f19e",
   "metadata": {},
   "source": [
    "## Attraction of Location: Major Prospects"
   ]
  },
  {
   "cell_type": "code",
   "execution_count": 40,
   "id": "a806fabb",
   "metadata": {},
   "outputs": [
    {
     "data": {
      "text/html": [
       "<div>\n",
       "<style scoped>\n",
       "    .dataframe tbody tr th:only-of-type {\n",
       "        vertical-align: middle;\n",
       "    }\n",
       "\n",
       "    .dataframe tbody tr th {\n",
       "        vertical-align: top;\n",
       "    }\n",
       "\n",
       "    .dataframe thead th {\n",
       "        text-align: right;\n",
       "    }\n",
       "</style>\n",
       "<table border=\"1\" class=\"dataframe\">\n",
       "  <thead>\n",
       "    <tr style=\"text-align: right;\">\n",
       "      <th></th>\n",
       "      <th>Major Prospects</th>\n",
       "    </tr>\n",
       "    <tr>\n",
       "      <th>Location Code</th>\n",
       "      <th></th>\n",
       "    </tr>\n",
       "  </thead>\n",
       "  <tbody>\n",
       "    <tr>\n",
       "      <th>PNNA</th>\n",
       "      <td>26.000000</td>\n",
       "    </tr>\n",
       "    <tr>\n",
       "      <th>PSAU</th>\n",
       "      <td>25.500000</td>\n",
       "    </tr>\n",
       "    <tr>\n",
       "      <th>PNNY</th>\n",
       "      <td>14.027027</td>\n",
       "    </tr>\n",
       "    <tr>\n",
       "      <th>PDON</th>\n",
       "      <td>13.267241</td>\n",
       "    </tr>\n",
       "    <tr>\n",
       "      <th>PSNA</th>\n",
       "      <td>11.000000</td>\n",
       "    </tr>\n",
       "  </tbody>\n",
       "</table>\n",
       "</div>"
      ],
      "text/plain": [
       "               Major Prospects\n",
       "Location Code                 \n",
       "PNNA                 26.000000\n",
       "PSAU                 25.500000\n",
       "PNNY                 14.027027\n",
       "PDON                 13.267241\n",
       "PSNA                 11.000000"
      ]
     },
     "execution_count": 40,
     "metadata": {},
     "output_type": "execute_result"
    }
   ],
   "source": [
    "# Get the order of average of Major Prospects grouped by each Location Code\n",
    "avgft = data[[\"Location Code\",\"Major Prospects\"]].groupby([\"Location Code\"]).mean().sort_values(by=\"Major Prospects\",ascending=False)\n",
    "avgft.head(5)"
   ]
  },
  {
   "cell_type": "code",
   "execution_count": 41,
   "id": "cdbd6687",
   "metadata": {},
   "outputs": [
    {
     "data": {
      "text/html": [
       "<div>\n",
       "<style scoped>\n",
       "    .dataframe tbody tr th:only-of-type {\n",
       "        vertical-align: middle;\n",
       "    }\n",
       "\n",
       "    .dataframe tbody tr th {\n",
       "        vertical-align: top;\n",
       "    }\n",
       "\n",
       "    .dataframe thead th {\n",
       "        text-align: right;\n",
       "    }\n",
       "</style>\n",
       "<table border=\"1\" class=\"dataframe\">\n",
       "  <thead>\n",
       "    <tr style=\"text-align: right;\">\n",
       "      <th></th>\n",
       "      <th>Location Code</th>\n",
       "      <th>Location Description</th>\n",
       "    </tr>\n",
       "  </thead>\n",
       "  <tbody>\n",
       "    <tr>\n",
       "      <th>23</th>\n",
       "      <td>PNNA</td>\n",
       "      <td>CP Northeast- General</td>\n",
       "    </tr>\n",
       "    <tr>\n",
       "      <th>46</th>\n",
       "      <td>PNNA</td>\n",
       "      <td>CP Northeast- General</td>\n",
       "    </tr>\n",
       "    <tr>\n",
       "      <th>55</th>\n",
       "      <td>PNNA</td>\n",
       "      <td>CP Northeast- General</td>\n",
       "    </tr>\n",
       "    <tr>\n",
       "      <th>167</th>\n",
       "      <td>PNNA</td>\n",
       "      <td>CP Northeast-General</td>\n",
       "    </tr>\n",
       "  </tbody>\n",
       "</table>\n",
       "</div>"
      ],
      "text/plain": [
       "    Location Code   Location Description\n",
       "23           PNNA  CP Northeast- General\n",
       "46           PNNA  CP Northeast- General\n",
       "55           PNNA  CP Northeast- General\n",
       "167          PNNA   CP Northeast-General"
      ]
     },
     "execution_count": 41,
     "metadata": {},
     "output_type": "execute_result"
    }
   ],
   "source": [
    "# Find the Location Description of the top 1 Location Code\n",
    "data.loc[data[\"Location Code\"]==\"PNNA\"][[\"Location Code\", \"Location Description\"]]"
   ]
  },
  {
   "cell_type": "markdown",
   "id": "085b3e68",
   "metadata": {},
   "source": [
    "## Attraction of Activity: Major Prospects"
   ]
  },
  {
   "cell_type": "code",
   "execution_count": 42,
   "id": "5c2af468",
   "metadata": {
    "id": "5c2af468",
    "outputId": "dacab17d-1966-4393-b114-97a1354f5516"
   },
   "outputs": [
    {
     "data": {
      "text/html": [
       "<div>\n",
       "<style scoped>\n",
       "    .dataframe tbody tr th:only-of-type {\n",
       "        vertical-align: middle;\n",
       "    }\n",
       "\n",
       "    .dataframe tbody tr th {\n",
       "        vertical-align: top;\n",
       "    }\n",
       "\n",
       "    .dataframe thead th {\n",
       "        text-align: right;\n",
       "    }\n",
       "</style>\n",
       "<table border=\"1\" class=\"dataframe\">\n",
       "  <thead>\n",
       "    <tr style=\"text-align: right;\">\n",
       "      <th></th>\n",
       "      <th>Major Prospects</th>\n",
       "    </tr>\n",
       "    <tr>\n",
       "      <th>Activity Code</th>\n",
       "      <th></th>\n",
       "    </tr>\n",
       "  </thead>\n",
       "  <tbody>\n",
       "    <tr>\n",
       "      <th>PEAVB</th>\n",
       "      <td>97.00</td>\n",
       "    </tr>\n",
       "    <tr>\n",
       "      <th>PEZAG</th>\n",
       "      <td>94.00</td>\n",
       "    </tr>\n",
       "    <tr>\n",
       "      <th>PEZHF</th>\n",
       "      <td>80.00</td>\n",
       "    </tr>\n",
       "    <tr>\n",
       "      <th>PEZJV</th>\n",
       "      <td>76.00</td>\n",
       "    </tr>\n",
       "    <tr>\n",
       "      <th>PEZHC</th>\n",
       "      <td>69.25</td>\n",
       "    </tr>\n",
       "    <tr>\n",
       "      <th>...</th>\n",
       "      <td>...</td>\n",
       "    </tr>\n",
       "    <tr>\n",
       "      <th>PEAKB</th>\n",
       "      <td>0.00</td>\n",
       "    </tr>\n",
       "    <tr>\n",
       "      <th>PEAKH</th>\n",
       "      <td>0.00</td>\n",
       "    </tr>\n",
       "    <tr>\n",
       "      <th>PEAKM</th>\n",
       "      <td>0.00</td>\n",
       "    </tr>\n",
       "    <tr>\n",
       "      <th>PEARO</th>\n",
       "      <td>0.00</td>\n",
       "    </tr>\n",
       "    <tr>\n",
       "      <th>PEAND</th>\n",
       "      <td>0.00</td>\n",
       "    </tr>\n",
       "  </tbody>\n",
       "</table>\n",
       "<p>341 rows × 1 columns</p>\n",
       "</div>"
      ],
      "text/plain": [
       "               Major Prospects\n",
       "Activity Code                 \n",
       "PEAVB                    97.00\n",
       "PEZAG                    94.00\n",
       "PEZHF                    80.00\n",
       "PEZJV                    76.00\n",
       "PEZHC                    69.25\n",
       "...                        ...\n",
       "PEAKB                     0.00\n",
       "PEAKH                     0.00\n",
       "PEAKM                     0.00\n",
       "PEARO                     0.00\n",
       "PEAND                     0.00\n",
       "\n",
       "[341 rows x 1 columns]"
      ]
     },
     "execution_count": 42,
     "metadata": {},
     "output_type": "execute_result"
    }
   ],
   "source": [
    "# Get the order of average of Major Prospects grouped by each Activity Code\n",
    "avgmp = data[[\"Activity Code\",\"Major Prospects\"]].groupby([\"Activity Code\"]).mean().sort_values(by=\"Major Prospects\",ascending=False)\n",
    "avgmp"
   ]
  },
  {
   "cell_type": "code",
   "execution_count": 43,
   "id": "16dc2553",
   "metadata": {
    "id": "16dc2553",
    "outputId": "1cb6f42b-6dcc-4d18-9314-9a7de50a0989"
   },
   "outputs": [
    {
     "data": {
      "text/html": [
       "<div>\n",
       "<style scoped>\n",
       "    .dataframe tbody tr th:only-of-type {\n",
       "        vertical-align: middle;\n",
       "    }\n",
       "\n",
       "    .dataframe tbody tr th {\n",
       "        vertical-align: top;\n",
       "    }\n",
       "\n",
       "    .dataframe thead th {\n",
       "        text-align: right;\n",
       "    }\n",
       "</style>\n",
       "<table border=\"1\" class=\"dataframe\">\n",
       "  <thead>\n",
       "    <tr style=\"text-align: right;\">\n",
       "      <th></th>\n",
       "      <th>Activity Code</th>\n",
       "      <th>Activity Description</th>\n",
       "    </tr>\n",
       "  </thead>\n",
       "  <tbody>\n",
       "    <tr>\n",
       "      <th>0</th>\n",
       "      <td>PEAVB</td>\n",
       "      <td>CP AA-Virtual Book Club</td>\n",
       "    </tr>\n",
       "  </tbody>\n",
       "</table>\n",
       "</div>"
      ],
      "text/plain": [
       "  Activity Code     Activity Description\n",
       "0         PEAVB  CP AA-Virtual Book Club"
      ]
     },
     "execution_count": 43,
     "metadata": {},
     "output_type": "execute_result"
    }
   ],
   "source": [
    "# Find the Activity Description of the top 1 Activity Code\n",
    "data.loc[data[\"Activity Code\"]==\"PEAVB\"][[\"Activity Code\", \"Activity Description\"]]"
   ]
  },
  {
   "cell_type": "code",
   "execution_count": 44,
   "id": "9385a298",
   "metadata": {
    "id": "9385a298",
    "outputId": "648eb87a-0c2d-4e0e-90f6-2349de3f1b24"
   },
   "outputs": [
    {
     "data": {
      "text/html": [
       "<div>\n",
       "<style scoped>\n",
       "    .dataframe tbody tr th:only-of-type {\n",
       "        vertical-align: middle;\n",
       "    }\n",
       "\n",
       "    .dataframe tbody tr th {\n",
       "        vertical-align: top;\n",
       "    }\n",
       "\n",
       "    .dataframe thead th {\n",
       "        text-align: right;\n",
       "    }\n",
       "</style>\n",
       "<table border=\"1\" class=\"dataframe\">\n",
       "  <thead>\n",
       "    <tr style=\"text-align: right;\">\n",
       "      <th></th>\n",
       "      <th>Avg_Pct_Major_Prospect</th>\n",
       "    </tr>\n",
       "    <tr>\n",
       "      <th>Activity Code</th>\n",
       "      <th></th>\n",
       "    </tr>\n",
       "  </thead>\n",
       "  <tbody>\n",
       "    <tr>\n",
       "      <th>PEZAT</th>\n",
       "      <td>0.590909</td>\n",
       "    </tr>\n",
       "    <tr>\n",
       "      <th>PEACA</th>\n",
       "      <td>0.554241</td>\n",
       "    </tr>\n",
       "    <tr>\n",
       "      <th>PEATE</th>\n",
       "      <td>0.545455</td>\n",
       "    </tr>\n",
       "    <tr>\n",
       "      <th>PEZHF</th>\n",
       "      <td>0.484848</td>\n",
       "    </tr>\n",
       "    <tr>\n",
       "      <th>PE788</th>\n",
       "      <td>0.450534</td>\n",
       "    </tr>\n",
       "    <tr>\n",
       "      <th>...</th>\n",
       "      <td>...</td>\n",
       "    </tr>\n",
       "    <tr>\n",
       "      <th>PEARC</th>\n",
       "      <td>0.000000</td>\n",
       "    </tr>\n",
       "    <tr>\n",
       "      <th>PEARD</th>\n",
       "      <td>0.000000</td>\n",
       "    </tr>\n",
       "    <tr>\n",
       "      <th>PEAED</th>\n",
       "      <td>0.000000</td>\n",
       "    </tr>\n",
       "    <tr>\n",
       "      <th>PEAVP</th>\n",
       "      <td>0.000000</td>\n",
       "    </tr>\n",
       "    <tr>\n",
       "      <th>PEAMM</th>\n",
       "      <td>0.000000</td>\n",
       "    </tr>\n",
       "  </tbody>\n",
       "</table>\n",
       "<p>341 rows × 1 columns</p>\n",
       "</div>"
      ],
      "text/plain": [
       "               Avg_Pct_Major_Prospect\n",
       "Activity Code                        \n",
       "PEZAT                        0.590909\n",
       "PEACA                        0.554241\n",
       "PEATE                        0.545455\n",
       "PEZHF                        0.484848\n",
       "PE788                        0.450534\n",
       "...                               ...\n",
       "PEARC                        0.000000\n",
       "PEARD                        0.000000\n",
       "PEAED                        0.000000\n",
       "PEAVP                        0.000000\n",
       "PEAMM                        0.000000\n",
       "\n",
       "[341 rows x 1 columns]"
      ]
     },
     "execution_count": 44,
     "metadata": {},
     "output_type": "execute_result"
    }
   ],
   "source": [
    "# Get the order of average of percentage of Major Prospects grouped by each Activity Code\n",
    "avgpmp = data[[\"Activity Code\",\"Percentage Major Prospect\"]].groupby([\"Activity Code\"]).agg(Avg_Pct_Major_Prospect =(\"Percentage Major Prospect\",\"mean\")).sort_values(by=\"Avg_Pct_Major_Prospect\",ascending=False)\n",
    "avgpmp"
   ]
  },
  {
   "cell_type": "code",
   "execution_count": 45,
   "id": "cb79f769",
   "metadata": {
    "id": "cb79f769",
    "outputId": "599ef207-1c6a-4583-8c6c-488c3dde89da"
   },
   "outputs": [
    {
     "name": "stdout",
     "output_type": "stream",
     "text": [
      "PEAVB 178\n"
     ]
    }
   ],
   "source": [
    "# Find the position of the average of percentage of Major Prospects for the Activity Code with highest Major Prospects\n",
    "avgpmp_position = 0\n",
    "for i in range(len(avgpmp)):\n",
    "    avgpmp_position += 1\n",
    "    if avgpmp.index.tolist()[i] == avgmp.index.tolist()[0]:\n",
    "        print(avgpmp.index.tolist()[i], avgpmp_position)"
   ]
  }
 ],
 "metadata": {
  "colab": {
   "name": "Team 6.ipynb",
   "provenance": []
  },
  "kernelspec": {
   "display_name": "Python 3",
   "language": "python",
   "name": "python3"
  },
  "language_info": {
   "codemirror_mode": {
    "name": "ipython",
    "version": 3
   },
   "file_extension": ".py",
   "mimetype": "text/x-python",
   "name": "python",
   "nbconvert_exporter": "python",
   "pygments_lexer": "ipython3",
   "version": "3.8.8"
  }
 },
 "nbformat": 4,
 "nbformat_minor": 5
}
